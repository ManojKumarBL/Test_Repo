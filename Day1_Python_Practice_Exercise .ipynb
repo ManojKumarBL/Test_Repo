{
 "cells": [
  {
   "cell_type": "code",
   "execution_count": null,
   "id": "bfd28cb6-08da-4e1e-b662-5127a49ca7c6",
   "metadata": {
    "tags": []
   },
   "outputs": [],
   "source": [
    "# 1 Manipulate using list.\n",
    "\n",
    "my_list = [1,3,7,5,11]\n",
    "print(my_list)"
   ]
  },
  {
   "cell_type": "code",
   "execution_count": 3,
   "id": "398ae2e6-1131-474b-8046-a3757a714f44",
   "metadata": {
    "tags": []
   },
   "outputs": [],
   "source": [
    "# i) To add new elements to the end of the list\n",
    "my_list.append(\"abcd\")\n",
    "my_list.insert(1,0)"
   ]
  },
  {
   "cell_type": "code",
   "execution_count": 4,
   "id": "27f982c5-4ad1-4aa7-8c1c-1f442d76c076",
   "metadata": {
    "tags": []
   },
   "outputs": [
    {
     "name": "stdout",
     "output_type": "stream",
     "text": [
      "[1, 0, 3, 7, 5, 11, 'abcd', 'abcd']\n"
     ]
    }
   ],
   "source": [
    "print(my_list)"
   ]
  },
  {
   "cell_type": "code",
   "execution_count": 5,
   "id": "0f93dc4a-85fe-4251-b4dc-0989fb007a52",
   "metadata": {
    "tags": []
   },
   "outputs": [
    {
     "name": "stdout",
     "output_type": "stream",
     "text": [
      "['abcd', 'abcd', 11, 5, 7, 3, 0, 1]\n"
     ]
    }
   ],
   "source": [
    "# ii) To reverse elements in the list \n",
    "my_list.reverse()\n",
    "print(my_list)"
   ]
  },
  {
   "cell_type": "code",
   "execution_count": 6,
   "id": "1979cb4d-0803-4a4f-8f81-fb08986bd25f",
   "metadata": {
    "tags": []
   },
   "outputs": [
    {
     "name": "stdout",
     "output_type": "stream",
     "text": [
      "['abcd', 'abcd', 11, 5, 7, 3, 0, 1, 'abcd', 'abcd', 11, 5, 7, 3, 0, 1, 'abcd', 'abcd', 11, 5, 7, 3, 0, 1, 'abcd', 'abcd', 11, 5, 7, 3, 0, 1, 'abcd', 'abcd', 11, 5, 7, 3, 0, 1, 'abcd', 'abcd', 11, 5, 7, 3, 0, 1, 'abcd', 'abcd', 11, 5, 7, 3, 0, 1, 'abcd', 'abcd', 11, 5, 7, 3, 0, 1, 'abcd', 'abcd', 11, 5, 7, 3, 0, 1, 'abcd', 'abcd', 11, 5, 7, 3, 0, 1]\n"
     ]
    }
   ],
   "source": [
    "# iii) to display the same list of elements multiple times \n",
    "mlist = 10 * my_list;\n",
    "print(mlist)"
   ]
  },
  {
   "cell_type": "code",
   "execution_count": 7,
   "id": "18910225-bc45-429c-8d11-ff2156ae1e01",
   "metadata": {
    "tags": []
   },
   "outputs": [
    {
     "name": "stdout",
     "output_type": "stream",
     "text": [
      "[1, 2, 3, 4, 'abc', 'def', 'ghi']\n"
     ]
    }
   ],
   "source": [
    "# iv) to concatenate two list \n",
    "alist = [1,2,3,4]\n",
    "blist = [\"abc\", \"def\", \"ghi\"]\n",
    "clist = alist + blist\n",
    "print(clist)"
   ]
  },
  {
   "cell_type": "code",
   "execution_count": 9,
   "id": "77e36c9e-8ba5-4b13-b420-6028fe36c98d",
   "metadata": {
    "tags": []
   },
   "outputs": [
    {
     "name": "stdout",
     "output_type": "stream",
     "text": [
      "[45, 2, 5, 8, 4, 1, 2, 3, 4, 'abc', 'def', 'ghi']\n"
     ]
    }
   ],
   "source": [
    "dlist = [45,2,5,8,4]\n",
    "dlist.extend(clist)\n",
    "print(dlist)"
   ]
  },
  {
   "cell_type": "code",
   "execution_count": 10,
   "id": "902bd5e2-f856-49ee-9e9f-8e7d8a05ae22",
   "metadata": {
    "tags": []
   },
   "outputs": [
    {
     "name": "stdout",
     "output_type": "stream",
     "text": [
      "[0, 3, 8, 41, 55, 77, 99]\n"
     ]
    }
   ],
   "source": [
    "# v) to sort the elements in the list in assending order\n",
    "\n",
    "mylist = [55,77,41,8,0,3,99]\n",
    "mylist.sort()\n",
    "print(mylist)"
   ]
  },
  {
   "cell_type": "code",
   "execution_count": 12,
   "id": "9bc5c0ec-5fe2-4c26-8825-485bc6446fe6",
   "metadata": {
    "tags": []
   },
   "outputs": [
    {
     "name": "stdout",
     "output_type": "stream",
     "text": [
      "('varun', 'manoj', 'mahaan', 'mohan', 'karan', 'rohith')\n"
     ]
    }
   ],
   "source": [
    "# 2) write a python program to do in the tuples \n",
    "\n",
    "# i) Maniplulate using tuple \n",
    "# ii) To add new elements to the end end of the tuples\n",
    "\n",
    "names  = (\"varun\",\"manoj\",\"mahaan\",\"mohan\",\"karan\")\n",
    "temp = list(names)\n",
    "temp.append(\"rohith\")\n",
    "names = tuple(temp)\n",
    "print(names)"
   ]
  },
  {
   "cell_type": "code",
   "execution_count": 13,
   "id": "7b304470-23d6-4c03-a4c7-d4c1860fe4e3",
   "metadata": {
    "tags": []
   },
   "outputs": [
    {
     "name": "stdout",
     "output_type": "stream",
     "text": [
      "('rohith', 'karan', 'mohan', 'mahaan', 'manoj', 'varun')\n"
     ]
    }
   ],
   "source": [
    "# iii) to reverse element in the list\n",
    "\n",
    "names= names[::-1]\n",
    "print(names)"
   ]
  },
  {
   "cell_type": "code",
   "execution_count": 14,
   "id": "45116d06-6a6e-45f3-afd2-3591abe6bb50",
   "metadata": {
    "tags": []
   },
   "outputs": [
    {
     "name": "stdout",
     "output_type": "stream",
     "text": [
      "('rohith', 'karan', 'mohan', 'mahaan', 'manoj', 'varun', 'rohith', 'karan', 'mohan', 'mahaan', 'manoj', 'varun', 'rohith', 'karan', 'mohan', 'mahaan', 'manoj', 'varun', 'rohith', 'karan', 'mohan', 'mahaan', 'manoj', 'varun', 'rohith', 'karan', 'mohan', 'mahaan', 'manoj', 'varun', 'rohith', 'karan', 'mohan', 'mahaan', 'manoj', 'varun', 'rohith', 'karan', 'mohan', 'mahaan', 'manoj', 'varun', 'rohith', 'karan', 'mohan', 'mahaan', 'manoj', 'varun', 'rohith', 'karan', 'mohan', 'mahaan', 'manoj', 'varun', 'rohith', 'karan', 'mohan', 'mahaan', 'manoj', 'varun')\n"
     ]
    }
   ],
   "source": [
    "# iv) to display the elements of the same tuple multiple times \n",
    "\n",
    "mtuple = names * 10;\n",
    "print(mtuple)"
   ]
  },
  {
   "cell_type": "code",
   "execution_count": 16,
   "id": "5ff6395b-345a-4eec-994c-e2b1f995114e",
   "metadata": {
    "tags": []
   },
   "outputs": [
    {
     "name": "stdout",
     "output_type": "stream",
     "text": [
      "('rohith', 'karan', 'mohan', 'mahaan', 'manoj', 'varun', 1, 2, 3, 4, 5, 6, 7, 8)\n"
     ]
    }
   ],
   "source": [
    "# v) To concatenate two tuples \n",
    "\n",
    "number = (1,2,3,4,5,6,7,8)\n",
    "addtuples = names + number\n",
    "print(addtuples)"
   ]
  },
  {
   "cell_type": "code",
   "execution_count": 17,
   "id": "45d0deb1-6506-4ada-9670-bcdbe0e8b62a",
   "metadata": {
    "tags": []
   },
   "outputs": [
    {
     "name": "stdout",
     "output_type": "stream",
     "text": [
      "(0, 11, 44, 55, 77, 88)\n"
     ]
    }
   ],
   "source": [
    "# vi)to sort the elements in the list in assending order\n",
    "\n",
    "num = (55,44,88,77,0,11)\n",
    "sortouple = tuple(sorted(num))\n",
    "print(sortouple)"
   ]
  },
  {
   "cell_type": "code",
   "execution_count": 18,
   "id": "dbe33566-b312-458d-9396-4f2872bf7395",
   "metadata": {
    "tags": []
   },
   "outputs": [
    {
     "name": "stdout",
     "output_type": "stream",
     "text": [
      "100\n"
     ]
    }
   ],
   "source": [
    "# 3) Write a python program  to implement the following using list\n",
    "\n",
    "# i) create a list with integers\n",
    "# ii) how to display the last number in the list\n",
    "num = [99,88,77,66,55,78,14,20,96,100]\n",
    "print(num[-1])"
   ]
  },
  {
   "cell_type": "code",
   "execution_count": 19,
   "id": "14730138-3d2e-4170-b1bf-3e26729c97ba",
   "metadata": {
    "tags": []
   },
   "outputs": [
    {
     "name": "stdout",
     "output_type": "stream",
     "text": [
      "[99, 88, 77, 66]\n"
     ]
    }
   ],
   "source": [
    "# iii) command for displaying the values from the list[0:4]\n",
    "\n",
    "print(num[0:4])"
   ]
  },
  {
   "cell_type": "code",
   "execution_count": 20,
   "id": "71cfa4a4-38e1-4542-8b54-fb804a967855",
   "metadata": {
    "tags": []
   },
   "outputs": [
    {
     "name": "stdout",
     "output_type": "stream",
     "text": [
      "[77, 66, 55, 78, 14, 20, 96, 100]\n"
     ]
    }
   ],
   "source": [
    "# iv) command for displaying the values from the list[2:]\n",
    "\n",
    "print(num[2:])"
   ]
  },
  {
   "cell_type": "code",
   "execution_count": 21,
   "id": "a991aab9-8c8e-475c-9201-eb06c137d78c",
   "metadata": {
    "tags": []
   },
   "outputs": [
    {
     "name": "stdout",
     "output_type": "stream",
     "text": [
      "[99, 88, 77, 66, 55, 78]\n"
     ]
    }
   ],
   "source": [
    "# v) command for displaying the values from the list[:6]\n",
    "\n",
    "print(num[:6])"
   ]
  },
  {
   "cell_type": "code",
   "execution_count": 24,
   "id": "1da4ab7b-e703-4ccf-823d-bcf3d43ecf5a",
   "metadata": {
    "tags": []
   },
   "outputs": [
    {
     "name": "stdout",
     "output_type": "stream",
     "text": [
      "(10, 50)\n"
     ]
    }
   ],
   "source": [
    "# 4) write a python program \n",
    "\n",
    "tuple1 = (10,50,20,40,30)\n",
    "\n",
    "# i) to display the elements 10 and 50 from tuple1\n",
    "\n",
    "print(tuple1[:-3])"
   ]
  },
  {
   "cell_type": "code",
   "execution_count": 25,
   "id": "5dbefb3a-9d1f-4105-a545-4bd2d255b863",
   "metadata": {
    "tags": []
   },
   "outputs": [
    {
     "name": "stdout",
     "output_type": "stream",
     "text": [
      "5\n"
     ]
    }
   ],
   "source": [
    "# ii) to display the length of a tuple1\n",
    "print(len(tuple1))"
   ]
  },
  {
   "cell_type": "code",
   "execution_count": 26,
   "id": "fd1b809e-bd74-4954-831f-6e28af7474a2",
   "metadata": {
    "tags": []
   },
   "outputs": [
    {
     "name": "stdout",
     "output_type": "stream",
     "text": [
      "10\n"
     ]
    }
   ],
   "source": [
    "# iii) to find the minimum element from tuple1 \n",
    "print(min(tuple1))"
   ]
  },
  {
   "cell_type": "code",
   "execution_count": 27,
   "id": "4635c140-80ec-47cf-86f3-24159e8f6dc7",
   "metadata": {
    "tags": []
   },
   "outputs": [
    {
     "name": "stdout",
     "output_type": "stream",
     "text": [
      "(10, 50, 20, 40, 30, 10, 50, 20, 40, 30)\n"
     ]
    }
   ],
   "source": [
    "# iv) To add all elements in tuple1\n",
    "\n",
    "num = (10,50,20,40,30)\n",
    "addtuple = num + tuple1\n",
    "print(addtuple)"
   ]
  },
  {
   "cell_type": "code",
   "execution_count": 28,
   "id": "5fbff419-bcde-41dd-a5fc-4c130e99355a",
   "metadata": {
    "tags": []
   },
   "outputs": [
    {
     "name": "stdout",
     "output_type": "stream",
     "text": [
      "(10, 50, 20, 40, 30, 10, 50, 20, 40, 30, 10, 50, 20, 40, 30, 10, 50, 20, 40, 30, 10, 50, 20, 40, 30, 10, 50, 20, 40, 30, 10, 50, 20, 40, 30, 10, 50, 20, 40, 30, 10, 50, 20, 40, 30, 10, 50, 20, 40, 30)\n"
     ]
    }
   ],
   "source": [
    "# v) to display the same tuple 1 multiple times\n",
    "\n",
    "mtuple = tuple1 *10\n",
    "print(mtuple)"
   ]
  },
  {
   "cell_type": "code",
   "execution_count": 29,
   "id": "e9c85e3e-53ac-4981-801c-2da7cf3800ab",
   "metadata": {
    "tags": []
   },
   "outputs": [
    {
     "name": "stdout",
     "output_type": "stream",
     "text": [
      "5\n"
     ]
    }
   ],
   "source": [
    "# 5) Write a Python Program \n",
    "# i) To calculate the length of a string \n",
    "\n",
    "name = \"MANOJ\"\n",
    "print(len(name))"
   ]
  },
  {
   "cell_type": "code",
   "execution_count": 30,
   "id": "7b680b45-c9b3-45fe-b33b-ffdc7ae848a5",
   "metadata": {
    "tags": []
   },
   "outputs": [
    {
     "name": "stdout",
     "output_type": "stream",
     "text": [
      "JONAM\n"
     ]
    }
   ],
   "source": [
    "# ii) to reverse words in a string \n",
    "\n",
    "print(name[::-1])"
   ]
  },
  {
   "cell_type": "code",
   "execution_count": 31,
   "id": "fd5d5528-5c7c-419b-a47b-00d94f4dba6e",
   "metadata": {
    "tags": []
   },
   "outputs": [
    {
     "name": "stdout",
     "output_type": "stream",
     "text": [
      "MANOJMANOJMANOJMANOJMANOJMANOJMANOJMANOJMANOJMANOJ\n"
     ]
    }
   ],
   "source": [
    "# iii) to display the same string multiple times\n",
    "\n",
    "mstring = name * 10\n",
    "print(mstring)"
   ]
  },
  {
   "cell_type": "code",
   "execution_count": 32,
   "id": "5f97f329-3e18-4751-bdaa-3c6ac6708be7",
   "metadata": {
    "tags": []
   },
   "outputs": [
    {
     "name": "stdout",
     "output_type": "stream",
     "text": [
      "MANOJKUMAR\n"
     ]
    }
   ],
   "source": [
    "# iv) to concatenate two string \n",
    "\n",
    "names = \"KUMAR\"\n",
    "fullname = name + names\n",
    "print(fullname)"
   ]
  },
  {
   "cell_type": "code",
   "execution_count": 33,
   "id": "3712664d-219f-40eb-a7b3-aca6c3585889",
   "metadata": {
    "tags": []
   },
   "outputs": [],
   "source": [
    "# v) Str1 = \"South India\" ,using string slicing to display \"India\"\n",
    "\n",
    "str1 = \"South India\""
   ]
  },
  {
   "cell_type": "code",
   "execution_count": 36,
   "id": "e9f172db-66a6-4694-ac04-4336cfcca598",
   "metadata": {
    "tags": []
   },
   "outputs": [
    {
     "name": "stdout",
     "output_type": "stream",
     "text": [
      "India\n"
     ]
    }
   ],
   "source": [
    "print(str1[6:])"
   ]
  },
  {
   "cell_type": "code",
   "execution_count": 40,
   "id": "bf624e54-68be-447f-a8c3-857a01aedb1b",
   "metadata": {
    "tags": []
   },
   "outputs": [
    {
     "name": "stdout",
     "output_type": "stream",
     "text": [
      "{'name': 'Manoj'}\n",
      "<class 'dict'>\n"
     ]
    }
   ],
   "source": [
    "# 6) Perform the following \n",
    "# i) Creating the dictionary \n",
    "\n",
    "my_dic  = {\"name\":\"Manoj\"}\n",
    "print(my_dic)\n",
    "print(type(my_dic))"
   ]
  },
  {
   "cell_type": "code",
   "execution_count": 41,
   "id": "e7b1b3f5-b77e-4b51-85fe-3349f4592094",
   "metadata": {
    "tags": []
   },
   "outputs": [
    {
     "name": "stdout",
     "output_type": "stream",
     "text": [
      "25\n"
     ]
    }
   ],
   "source": [
    "# ii) accessing values and keys in the dictionary \n",
    "\n",
    "details = {\"firstname\":\"Manoj\",\"lastname\":\"Kumar\",\"age\":25}\n",
    "print(details[\"age\"])"
   ]
  },
  {
   "cell_type": "code",
   "execution_count": 42,
   "id": "5a6a7e6e-ffa1-4715-a721-e197a6ec60d0",
   "metadata": {
    "tags": []
   },
   "outputs": [
    {
     "name": "stdout",
     "output_type": "stream",
     "text": [
      "Manoj\n"
     ]
    }
   ],
   "source": [
    "print (details.get(\"firstname\"))"
   ]
  },
  {
   "cell_type": "code",
   "execution_count": 43,
   "id": "2ecebaef-a9a9-4b90-894c-6bc629d78cd4",
   "metadata": {
    "tags": []
   },
   "outputs": [
    {
     "name": "stdout",
     "output_type": "stream",
     "text": [
      "dict_keys(['firstname', 'lastname', 'age'])\n"
     ]
    }
   ],
   "source": [
    "print(details.keys())"
   ]
  },
  {
   "cell_type": "code",
   "execution_count": 44,
   "id": "0fe629be-9489-41ab-895b-4b4f4f99f456",
   "metadata": {
    "tags": []
   },
   "outputs": [
    {
     "name": "stdout",
     "output_type": "stream",
     "text": [
      "['manoj', 'kumar', 25]\n"
     ]
    }
   ],
   "source": [
    "# 7)  Python program to insert a number to any position in a list\n",
    "\n",
    "lst = [\"manoj\",\"kumar\"]\n",
    "a = 25\n",
    "lst.insert(2,a)\n",
    "print(lst)"
   ]
  },
  {
   "cell_type": "code",
   "execution_count": 45,
   "id": "f56598d2-f038-4618-8471-c35deb692ac6",
   "metadata": {
    "tags": []
   },
   "outputs": [
    {
     "name": "stdout",
     "output_type": "stream",
     "text": [
      "['manoj', 'kumar']\n"
     ]
    }
   ],
   "source": [
    "# 8 Python program to delete an element from a list by index \n",
    "\n",
    "lst.remove(25)\n",
    "print(lst)"
   ]
  },
  {
   "cell_type": "code",
   "execution_count": 47,
   "id": "2daab667-ab05-4fc7-8116-dcaff8cb107e",
   "metadata": {
    "tags": []
   },
   "outputs": [
    {
     "name": "stdout",
     "output_type": "stream",
     "text": [
      "0 1 2 3 4 5 6 7 8 9 10 11 12 13 14 15 16 17 18 19 20 21 22 23 24 25 26 27 28 29 30 31 32 33 34 35 36 37 38 39 40 41 42 43 44 45 46 47 48 49 50 51 52 53 54 55 56 57 58 59 60 61 62 63 64 65 66 67 68 69 70 71 72 73 74 75 76 77 78 79 80 81 82 83 84 85 86 87 88 89 90 91 92 93 94 95 96 97 98 99 100 "
     ]
    }
   ],
   "source": [
    "# 9) write a program to display a number from 1 to 100\n",
    "\n",
    "a = 0\n",
    "while a <=100:\n",
    "    print(a, end = \" \")\n",
    "    a += 1"
   ]
  },
  {
   "cell_type": "code",
   "execution_count": 73,
   "id": "c4ab948b-090a-4186-8a07-3fe017a5f14b",
   "metadata": {
    "tags": []
   },
   "outputs": [
    {
     "name": "stdout",
     "output_type": "stream",
     "text": [
      "21\n"
     ]
    }
   ],
   "source": [
    "# 10) Write a python program to find the sum of all item from the tuple\n",
    "\n",
    "num = (1,2,3,4,5,6)\n",
    "temp = list(num)\n",
    "res = sum(list(temp))\n",
    "print(res)"
   ]
  },
  {
   "cell_type": "code",
   "execution_count": 98,
   "id": "d4569b05-9b31-4d4d-9075-e6ebc61ddbb6",
   "metadata": {
    "tags": []
   },
   "outputs": [
    {
     "name": "stdin",
     "output_type": "stream",
     "text": [
      "The number : 4\n"
     ]
    },
    {
     "name": "stdout",
     "output_type": "stream",
     "text": [
      "82.0\n"
     ]
    }
   ],
   "source": [
    "# 11) Create a dictionary containing three lamda function square,cube and sqare root \n",
    "# i) \n",
    "\n",
    "def addall(n):\n",
    "    d = { 'Square': lambda m : m*m, \n",
    "         'Cube': lambda m : m*m*m, \n",
    "         'Squareroot': lambda m : m**(1/2), \n",
    "         }\n",
    "    sum = 0\n",
    "    for key in d.keys():\n",
    "        sum += d[key](n)\n",
    "    return sum\n",
    "\n",
    "n= float(input(\"The number :\"))\n",
    "print(addall(n))"
   ]
  },
  {
   "cell_type": "code",
   "execution_count": 1,
   "id": "5480ba12-5e49-4615-8769-cd2bfceef58b",
   "metadata": {
    "tags": []
   },
   "outputs": [
    {
     "name": "stdout",
     "output_type": "stream",
     "text": [
      "['hOw', 'ARe']\n"
     ]
    }
   ],
   "source": [
    "# 12) A list of words is given . Find the words from the list that have their second character in uppercase\n",
    "\n",
    "lst = ['hello', 'Dear', 'hOw', 'ARe', 'You']\n",
    "result = [word for word in lst if len(word) > 1 and word[1].isupper()]\n",
    "print(result)\n"
   ]
  },
  {
   "cell_type": "code",
   "execution_count": 58,
   "id": "754e21d0-a0d8-4974-a9c8-975d460aad24",
   "metadata": {
    "tags": []
   },
   "outputs": [
    {
     "name": "stdout",
     "output_type": "stream",
     "text": [
      "[7.440366972477065, 10.747196738022426, 5.786952089704383]\n"
     ]
    }
   ],
   "source": [
    "# 13) A dictionary of names and their weight on earth is given. Find how much they will weigh on the moon\n",
    "\n",
    "wEarth = {'john':45, 'Shelly':65, 'Marry':35}\n",
    "GMoon = 1.622\n",
    "GEarth = 9.81\n",
    "\n",
    "wMoon = list(map(lambda w: (w * GMoon)/GEarth, wEarth.values()))\n",
    "wMoondict = dict(zip(wEarth.keys(),wMoon))\n",
    "\n",
    "#print(wMoondict)\n",
    "print(wMoon)"
   ]
  },
  {
   "cell_type": "code",
   "execution_count": 8,
   "id": "d9d21c16-387e-4b3c-8957-fb0a6a76c729",
   "metadata": {
    "tags": []
   },
   "outputs": [
    {
     "name": "stdin",
     "output_type": "stream",
     "text": [
      "Enter N: 80\n"
     ]
    },
    {
     "name": "stdout",
     "output_type": "stream",
     "text": [
      "First 80 Prime numbers are:2 3 5 7 11 13 17 19 23 29 31 37 41 43 47 53 59 61 67 71 73 79 83 89 97 101 103 107 109 113 127 131 137 139 149 151 157 163 167 173 179 181 191 193 197 199 211 223 227 229 233 239 241 251 257 263 269 271 277 281 283 293 307 311 313 317 331 337 347 349 353 359 367 373 379 383 389 397 401 409\n"
     ]
    }
   ],
   "source": [
    "# Control Structure \n",
    "# 1)Write a python program to find the first N prime numbers\n",
    "\n",
    "def Prime(n):  \n",
    "    for i in range(2,n//2+1):  \n",
    "        if(n%i==0):  \n",
    "            return(0)  \n",
    "    return(1)  \n",
    "  \n",
    "N=int(input(\"Enter N:\"))  \n",
    "i=2 \n",
    "lst=[] \n",
    "while(1):  \n",
    "    if(Prime(i)):  \n",
    "        lst.append(i) \n",
    "        if(len(lst)==N): \n",
    "            break \n",
    "    i+=1 \n",
    "print(\"First \"+str(N)+\" Prime numbers are:\",end=\"\") \n",
    "print(*lst) "
   ]
  },
  {
   "cell_type": "code",
   "execution_count": 9,
   "id": "883ae90b-ce5f-4c28-a40d-753b6dd6aa45",
   "metadata": {
    "tags": []
   },
   "outputs": [
    {
     "name": "stdin",
     "output_type": "stream",
     "text": [
      "Enter Basic Salary:  600000\n",
      "Enter HRA:  10000\n",
      "Enter TA:  25\n",
      "Enter DA:  12\n"
     ]
    },
    {
     "name": "stdout",
     "output_type": "stream",
     "text": [
      "Gross Salary: 610037.0\n",
      "Tax: 61003.700000000004\n",
      "Net Salary: 549033.3\n"
     ]
    }
   ],
   "source": [
    "# 2) Write the python code that calculates the salary of an employee. Prompt the user to enter the Basic Salary, HRA, TA, and DA. \n",
    "#Add these components to calculate the Gross Salary. Also, deduct 10% of salary from the Gross Salary to be paid as tax and display gross minus tax as net salary\n",
    "\n",
    "basic_salary = float(input(\"Enter Basic Salary: \"))\n",
    "hra = float(input(\"Enter HRA: \"))\n",
    "ta = float(input(\"Enter TA: \"))\n",
    "da = float(input(\"Enter DA: \"))\n",
    "\n",
    "gross_salary = basic_salary + hra + ta + da\n",
    "\n",
    "tax = 0.10 * gross_salary\n",
    "\n",
    "net_salary = gross_salary - tax\n",
    "\n",
    "print(\"Gross Salary: {}\".format(gross_salary))\n",
    "print(\"Tax: {}\".format(tax))\n",
    "print(\"Net Salary: {}\".format(net_salary))"
   ]
  },
  {
   "cell_type": "code",
   "execution_count": 17,
   "id": "4e024741-f53b-4bce-8f16-6ba6238caa50",
   "metadata": {
    "tags": []
   },
   "outputs": [
    {
     "name": "stdout",
     "output_type": "stream",
     "text": [
      "['manoj', 'kumar', 'bl']\n"
     ]
    },
    {
     "name": "stdin",
     "output_type": "stream",
     "text": [
      "enter the list element to search: manoj\n"
     ]
    },
    {
     "name": "stdout",
     "output_type": "stream",
     "text": [
      "manoj is found \n"
     ]
    }
   ],
   "source": [
    "# 3) write a python progran to search for a string in a given list \n",
    "\n",
    "lst = ['manoj','kumar','bl']\n",
    "print(lst)\n",
    "searchlst = input('enter the list element to search:')\n",
    "found = False\n",
    "for i in lst:\n",
    "    if searchlst == i:\n",
    "        found = True\n",
    "        break\n",
    "if found:\n",
    "    print(f'{searchlst} is found ' )\n",
    "else:\n",
    "    print(f'{searchlst} not found in list')"
   ]
  },
  {
   "cell_type": "code",
   "execution_count": 18,
   "id": "833e3e33-64be-42a7-96f3-87080414353e",
   "metadata": {
    "tags": []
   },
   "outputs": [
    {
     "name": "stdin",
     "output_type": "stream",
     "text": [
      "Enter a string:  Manoj\n"
     ]
    },
    {
     "name": "stdout",
     "output_type": "stream",
     "text": [
      "Number of uppercase letters: 1\n",
      "Number of lowercase letters: 4\n"
     ]
    }
   ],
   "source": [
    "# 4) write a python program that accepts a string a string and calculate the number of upper case letters and lower case letters\n",
    "\n",
    "def count_upper_lower(input_string):\n",
    "    upper_count = 0\n",
    "    lower_count = 0\n",
    "\n",
    "    for char in input_string:\n",
    "        if char.isupper():\n",
    "            upper_count += 1\n",
    "        elif char.islower():\n",
    "            lower_count += 1\n",
    "\n",
    "    return upper_count, lower_count\n",
    "\n",
    "input_string = input(\"Enter a string: \")\n",
    "\n",
    "upper_count, lower_count = count_upper_lower(input_string)\n",
    "\n",
    "print(f\"Number of uppercase letters: {upper_count}\")\n",
    "print(f\"Number of lowercase letters: {lower_count}\")\n"
   ]
  },
  {
   "cell_type": "code",
   "execution_count": 19,
   "id": "78c3c424-b23f-4e09-ab9d-4609f5504ede",
   "metadata": {
    "tags": []
   },
   "outputs": [
    {
     "name": "stdout",
     "output_type": "stream",
     "text": [
      "Sum of even numbers between 12 and 37: 312\n",
      "Sum of odd numbers between 12 and 37: 325\n"
     ]
    }
   ],
   "source": [
    "# 5) Write a python program to display the sum of add numbers and even numbers that fall between 12 and 37\n",
    "\n",
    "odd_sum = 0\n",
    "even_sum = 0\n",
    "\n",
    "for number in range(12, 38):\n",
    "    if number % 2 == 0:  \n",
    "        even_sum += number\n",
    "    else:\n",
    "        odd_sum += number\n",
    "\n",
    "print(f\"Sum of even numbers between 12 and 37: {even_sum}\")\n",
    "print(f\"Sum of odd numbers between 12 and 37: {odd_sum}\")\n"
   ]
  },
  {
   "cell_type": "code",
   "execution_count": 20,
   "id": "9f7593dc-417e-4bf7-9085-298d0bc7a66c",
   "metadata": {
    "tags": []
   },
   "outputs": [
    {
     "name": "stdin",
     "output_type": "stream",
     "text": [
      "Enter the number for the table:  14\n"
     ]
    },
    {
     "name": "stdout",
     "output_type": "stream",
     "text": [
      "Table of 14:\n",
      "14 x 1 = 14\n",
      "14 x 2 = 28\n",
      "14 x 3 = 42\n",
      "14 x 4 = 56\n",
      "14 x 5 = 70\n",
      "14 x 6 = 84\n",
      "14 x 7 = 98\n",
      "14 x 8 = 112\n",
      "14 x 9 = 126\n",
      "14 x 10 = 140\n"
     ]
    }
   ],
   "source": [
    "# 6) write a python program  to print the table of any numbers\n",
    "number = int(input(\"Enter the number for the table: \"))\n",
    "start = 1\n",
    "end = 10 \n",
    "print(f\"Table of {number}:\")\n",
    "\n",
    "for i in range(start, end + 1):\n",
    "    result = number * i\n",
    "    print(f\"{number} x {i} = {result}\")\n"
   ]
  },
  {
   "cell_type": "code",
   "execution_count": 21,
   "id": "5b8c2aaa-43e8-4606-ace7-9737f0bf879b",
   "metadata": {
    "tags": []
   },
   "outputs": [
    {
     "name": "stdout",
     "output_type": "stream",
     "text": [
      "The sum of the first 10 prime numbers is: 129\n"
     ]
    }
   ],
   "source": [
    "# 7) write a python program to sum the first 10 prime numbers\n",
    "\n",
    "def is_prime(num):\n",
    "    if num <= 1:\n",
    "        return False\n",
    "    if num <= 3:\n",
    "        return True\n",
    "    if num % 2 == 0 or num % 3 == 0:\n",
    "        return False\n",
    "    i = 5\n",
    "    while i * i <= num:\n",
    "        if num % i == 0 or num % (i + 2) == 0:\n",
    "            return False\n",
    "        i += 6\n",
    "    return True\n",
    "\n",
    "def sum_first_n_primes(n):\n",
    "    prime_sum = 0\n",
    "    count = 0\n",
    "    num = 2  \n",
    "\n",
    "    while count < n:\n",
    "        if is_prime(num):\n",
    "            prime_sum += num\n",
    "            count += 1\n",
    "        num += 1\n",
    "\n",
    "    return prime_sum\n",
    "\n",
    "n = 10  \n",
    "result = sum_first_n_primes(n)\n",
    "print(f\"The sum of the first {n} prime numbers is: {result}\")\n"
   ]
  },
  {
   "cell_type": "code",
   "execution_count": 22,
   "id": "2dd9443d-7e42-40f6-ba46-4e80fe82fce9",
   "metadata": {
    "tags": []
   },
   "outputs": [
    {
     "name": "stdin",
     "output_type": "stream",
     "text": [
      "Enter the first number:  8\n",
      "Enter the second number:  4\n",
      "Enter the operation (+, -, *, /):  +\n"
     ]
    },
    {
     "name": "stdout",
     "output_type": "stream",
     "text": [
      "Result: 12.0\n"
     ]
    }
   ],
   "source": [
    "# 8)write a python program to implement arithmetic operation using nested if statements\n",
    "\n",
    "# Get input from the user\n",
    "num1 = float(input(\"Enter the first number: \"))\n",
    "num2 = float(input(\"Enter the second number: \"))\n",
    "\n",
    "operation = input(\"Enter the operation (+, -, *, /): \")\n",
    "\n",
    "if operation == \"+\":\n",
    "    result = num1 + num2\n",
    "elif operation == \"-\":\n",
    "    result = num1 - num2\n",
    "elif operation == \"*\":\n",
    "    result = num1 * num2\n",
    "elif operation == \"/\":\n",
    "    if num2 != 0:\n",
    "        result = num1 / num2\n",
    "    else:\n",
    "        result = \"Cannot divide by zero\"\n",
    "else:\n",
    "    result = \"Invalid operation\"\n",
    "\n",
    "\n",
    "print(f\"Result: {result}\")\n"
   ]
  },
  {
   "cell_type": "code",
   "execution_count": 23,
   "id": "12006bfe-f9a4-4eef-a2d5-4fec2de8ac9f",
   "metadata": {
    "tags": []
   },
   "outputs": [
    {
     "name": "stdin",
     "output_type": "stream",
     "text": [
      "Enter temperature in Celsius:  25\n"
     ]
    },
    {
     "name": "stdout",
     "output_type": "stream",
     "text": [
      "25.0 Celsius is equal to 77.0 Fahrenheit\n"
     ]
    }
   ],
   "source": [
    "# 9) Write a python program to take the temperature in Celcius and convert it into a Fahrenheit\n",
    "\n",
    "celsius = float(input(\"Enter temperature in Celsius: \"))\n",
    "\n",
    "fahrenheit = (celsius * 9/5) + 32\n",
    "\n",
    "print(f\"{celsius} Celsius is equal to {fahrenheit} Fahrenheit\")\n"
   ]
  },
  {
   "cell_type": "code",
   "execution_count": 26,
   "id": "763671d9-735c-4fe6-b510-76edc28698d9",
   "metadata": {
    "tags": []
   },
   "outputs": [
    {
     "name": "stdout",
     "output_type": "stream",
     "text": [
      "Minimum number: 14\n",
      "Maximum number: 100\n"
     ]
    }
   ],
   "source": [
    "# 10) Write a python program to find a maximum and minimum number in a list without using an inbuilt function.\n",
    "\n",
    "my_list = [77,100,98,14,58,99]\n",
    "\n",
    "max_num = my_list[0]  \n",
    "min_num = my_list[0]  \n",
    "\n",
    "for num in my_list:\n",
    "    if num > max_num:\n",
    "        max_num = num\n",
    "    elif num < min_num:\n",
    "        min_num = num\n",
    "\n",
    "print(\"Minimum number:\",min_num)\n",
    "print(\"Maximum number:\", max_num)"
   ]
  },
  {
   "cell_type": "code",
   "execution_count": 31,
   "id": "c67b630a-d2e2-4a2c-8546-6586b71d01e2",
   "metadata": {
    "tags": []
   },
   "outputs": [
    {
     "name": "stdout",
     "output_type": "stream",
     "text": [
      "Number of seconds in a 30-day month: 2592000\n"
     ]
    }
   ],
   "source": [
    "#11) Write a program in python to print out the number of seconds in 30-day month 30 days, 24 hours in a day, 60 minutes per day, 60 seconds in a minute.\n",
    "\n",
    "days_in_month = 30\n",
    "hours_in_day = 24\n",
    "minutes_in_hour = 60\n",
    "seconds_in_minute = 60\n",
    "\n",
    "total_seconds = days_in_month * hours_in_day * minutes_in_hour * seconds_in_minute\n",
    "\n",
    "print(\"Number of seconds in a 30-day month:\" ,total_seconds)"
   ]
  },
  {
   "cell_type": "code",
   "execution_count": 32,
   "id": "df700511-7b19-4019-b36f-cb5cb25ee5e9",
   "metadata": {
    "tags": []
   },
   "outputs": [
    {
     "name": "stdout",
     "output_type": "stream",
     "text": [
      "Number of seconds in a year: 31536000\n"
     ]
    }
   ],
   "source": [
    "# 12) Write a program in python to print out the number of seconds in a year\n",
    "\n",
    "days_in_year = 365  \n",
    "hours_in_day = 24\n",
    "minutes_in_hour = 60\n",
    "seconds_in_minute = 60\n",
    "\n",
    "total_seconds = days_in_year * hours_in_day * minutes_in_hour * seconds_in_minute\n",
    "print(\"Number of seconds in a year:\",total_seconds)"
   ]
  },
  {
   "cell_type": "code",
   "execution_count": 33,
   "id": "57bf1e25-e799-484c-a54b-58410cd7ef02",
   "metadata": {
    "tags": []
   },
   "outputs": [
    {
     "name": "stdout",
     "output_type": "stream",
     "text": [
      "It will take 2.76 hours to travel from London to Glasgow at an average speed of 150 mph.\n"
     ]
    }
   ],
   "source": [
    "#13) A high-speed train can travel at an average speed of 150 mph, how long will it take a train travelling at this speed to travel from London to Glasgow which is 414 miles away?\n",
    "\n",
    "speed_mph = 150\n",
    "\n",
    "distance_miles = 414\n",
    "\n",
    "time_hours = distance_miles / speed_mph\n",
    "\n",
    "print(\"It will take {:.2f} hours to travel from London to Glasgow at an average speed of 150 mph.\".format(time_hours))"
   ]
  },
  {
   "cell_type": "code",
   "execution_count": 34,
   "id": "268ff9fa-edc4-42de-98e5-f11fb370ad60",
   "metadata": {
    "tags": []
   },
   "outputs": [
    {
     "name": "stdout",
     "output_type": "stream",
     "text": [
      "Total hours spent in school from year 7 to year 11: 5760\n"
     ]
    }
   ],
   "source": [
    "# 14) Write a python program that defines a variable called days_in_each_school_year and assign 192 to the variable. The program should then print out the total hours that you spend in school from year 7 to year 11, if each day you spend 6 hours in school days_in_each_school_year = 192\n",
    "\n",
    "days_in_each_school_year = 192\n",
    "school_years = 5\n",
    "hours_per_day = 6\n",
    "\n",
    "total_hours_in_school = days_in_each_school_year * school_years * hours_per_day\n",
    "print(\"Total hours spent in school from year 7 to year 11:\", total_hours_in_school)"
   ]
  },
  {
   "cell_type": "code",
   "execution_count": 43,
   "id": "7c5f718f-509e-43ee-b6dc-bcd7a342b3b5",
   "metadata": {
    "tags": []
   },
   "outputs": [
    {
     "name": "stdin",
     "output_type": "stream",
     "text": [
      "Enter Ram's age:  25\n",
      "Enter Sam's age:  22\n",
      "Enter Khan's age:  55\n"
     ]
    },
    {
     "name": "stdout",
     "output_type": "stream",
     "text": [
      "The eldest among Ram, Sam, and Khan is: Khan\n",
      "The youngest among Ram, Sam, and Khan is: Sam\n"
     ]
    }
   ],
   "source": [
    "# 15) If the age of Ram,Sam and Khan are input through the keyboard, write a python program to determine the eldest and youngest of the three.\n",
    "\n",
    "ram_age = int(input(\"Enter Ram's age: \"))\n",
    "sam_age = int(input(\"Enter Sam's age: \"))\n",
    "khan_age = int(input(\"Enter Khan's age: \"))\n",
    "\n",
    "if ram_age >= sam_age and ram_age >= khan_age:\n",
    "    eldest = \"Ram\"\n",
    "elif sam_age >= ram_age and sam_age >= khan_age:\n",
    "    eldest = \"Sam\"\n",
    "else:\n",
    "    eldest = \"Khan\"\n",
    "\n",
    "if ram_age <= sam_age and ram_age <= khan_age:\n",
    "    youngest = \"Ram\"\n",
    "elif sam_age <= ram_age and sam_age <= khan_age:\n",
    "    youngest = \"Sam\"\n",
    "else:\n",
    "    youngest = \"Khan\"\n",
    "\n",
    "\n",
    "\n",
    "print(\"The eldest among Ram, Sam, and Khan is:\", eldest)\n",
    "print(\"The youngest among Ram, Sam, and Khan is:\",youngest)"
   ]
  },
  {
   "cell_type": "code",
   "execution_count": 44,
   "id": "41b6d72b-d697-4f97-88c2-a0bd84dde8ea",
   "metadata": {
    "tags": []
   },
   "outputs": [
    {
     "name": "stdout",
     "output_type": "stream",
     "text": [
      "[6, 5, 1, 8, 7]\n"
     ]
    }
   ],
   "source": [
    "# 16) Write a python program to rotate a list by right n times with and without slicing technique.\n",
    "\n",
    "# with slicing\n",
    "\n",
    "def rotate_list_with_slicing(lst, n):\n",
    "    n = n % len(lst) \n",
    "    rotated_list = lst[-n:] + lst[:-n]\n",
    "    return rotated_list\n",
    "\n",
    "\n",
    "my_list = [1,8,7,6,5]\n",
    "n = 2\n",
    "rotated_list = rotate_list_with_slicing(my_list, n)\n",
    "print(rotated_list)"
   ]
  },
  {
   "cell_type": "code",
   "execution_count": 45,
   "id": "efcc6b7d-9f75-4c0b-baa8-1ed4f611feff",
   "metadata": {
    "tags": []
   },
   "outputs": [
    {
     "name": "stdout",
     "output_type": "stream",
     "text": [
      "[6, 5, 1, 8, 7]\n"
     ]
    }
   ],
   "source": [
    "#without slicing\n",
    "\n",
    "def without_slicing(lst, n):\n",
    "    n = n % len(lst)  \n",
    "    rotated_list = []\n",
    "    for i in range(len(lst)):\n",
    "        rotated_list.append(lst[(i - n) % len(lst)])\n",
    "    return rotated_list\n",
    "\n",
    "# Example usage:\n",
    "my_list = [1,8,7,6,5]\n",
    "n = 2\n",
    "rotated_list = without_slicing(my_list, n)\n",
    "print(rotated_list)"
   ]
  },
  {
   "cell_type": "code",
   "execution_count": 48,
   "id": "02834bf4-dfaa-4ade-b62f-366c8c412146",
   "metadata": {
    "tags": []
   },
   "outputs": [
    {
     "name": "stdout",
     "output_type": "stream",
     "text": [
      "1 \n",
      "1 1 \n",
      "1 2 1 \n",
      "1 3 3 1 \n",
      "1 4 6 4 1 \n",
      "1 5 10 10 5 1 \n",
      "1 6 15 20 15 6 1 \n",
      "1 7 21 35 35 21 7 1 \n"
     ]
    }
   ],
   "source": [
    "#17) a\n",
    "def generate_triangle(rows):\n",
    "    triangle = []\n",
    "    for i in range(rows):\n",
    "        row = []\n",
    "        for j in range(i + 1):\n",
    "            if j == 0 or j == i:\n",
    "                row.append(1)\n",
    "            else:\n",
    "                row.append(triangle[i - 1][j - 1] + triangle[i - 1][j])\n",
    "        triangle.append(row)\n",
    "    return triangle\n",
    "\n",
    "def print_triangle(triangle):\n",
    "    for row in triangle:\n",
    "        for num in row:\n",
    "            print(num, end=\" \")\n",
    "        print()\n",
    "\n",
    "rows = 8\n",
    "triangle = generate_pascals_triangle(rows)\n",
    "print_triangle(triangle)\n"
   ]
  },
  {
   "cell_type": "code",
   "execution_count": 52,
   "id": "9ba75ea4-d174-41b4-b2c6-25c24eca4a1c",
   "metadata": {
    "tags": []
   },
   "outputs": [
    {
     "name": "stdout",
     "output_type": "stream",
     "text": [
      "* \n",
      "* * \n",
      "* * * \n",
      "* * * * \n",
      "* * * * * \n"
     ]
    }
   ],
   "source": [
    "# 17) b\n",
    "\n",
    "def my_fun(n):\n",
    "    for i in range(0, n):\n",
    "        for j in range(0, i+1):\n",
    "            print(\"* \",end=\"\")\n",
    "            \n",
    "        print(\"\\r\")\n",
    "n = 5\n",
    "my_fun(n)"
   ]
  },
  {
   "cell_type": "code",
   "execution_count": 53,
   "id": "965b03cd-3cdf-4f39-a474-27f3fc457b12",
   "metadata": {
    "tags": []
   },
   "outputs": [
    {
     "name": "stdout",
     "output_type": "stream",
     "text": [
      "      * \n",
      "     * * \n",
      "    * * * \n",
      "   * * * * \n",
      "  * * * * * \n",
      " * * * * * * \n",
      "* * * * * * * \n"
     ]
    }
   ],
   "source": [
    "def triangle(n):\n",
    "    k = n - 1\n",
    "    for i in range(0, n):\n",
    "        for j in range(0, k):\n",
    "            print(end=\" \")\n",
    "     \n",
    "        k = k - 1\n",
    "        for j in range(0, i+1):\n",
    "            print(\"* \", end=\"\")\n",
    "     \n",
    "        print(\"\\r\")\n",
    "n = 7\n",
    "triangle(n)"
   ]
  },
  {
   "cell_type": "code",
   "execution_count": 57,
   "id": "678deb81-dab8-4d89-8324-abca804a0502",
   "metadata": {
    "tags": []
   },
   "outputs": [
    {
     "name": "stdout",
     "output_type": "stream",
     "text": [
      "\n",
      "P \n",
      "P Y \n",
      "P Y T \n",
      "P Y T H \n",
      "P Y T H O \n",
      "P Y T H O N "
     ]
    }
   ],
   "source": [
    "#17 d\n",
    "str=\"PYTHON\"\n",
    "for i in range(0,6):\n",
    "    print()\n",
    "    for j in range(0,i+1):\n",
    "        print(str[j],end=' ')"
   ]
  },
  {
   "cell_type": "code",
   "execution_count": null,
   "id": "8ea11b2d-e19c-4231-9d32-7a358f801317",
   "metadata": {},
   "outputs": [],
   "source": []
  }
 ],
 "metadata": {
  "kernelspec": {
   "display_name": "Python 3 (ipykernel)",
   "language": "python",
   "name": "python3"
  },
  "language_info": {
   "codemirror_mode": {
    "name": "ipython",
    "version": 3
   },
   "file_extension": ".py",
   "mimetype": "text/x-python",
   "name": "python",
   "nbconvert_exporter": "python",
   "pygments_lexer": "ipython3",
   "version": "3.11.4"
  }
 },
 "nbformat": 4,
 "nbformat_minor": 5
}
