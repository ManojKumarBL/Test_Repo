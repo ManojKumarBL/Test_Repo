{
 "cells": [
  {
   "cell_type": "code",
   "execution_count": 5,
   "id": "7ff2b8b3-ea94-4b98-8c06-e111667d8867",
   "metadata": {
    "tags": []
   },
   "outputs": [
    {
     "name": "stdout",
     "output_type": "stream",
     "text": [
      "Even numbers: [26, 38, 62, 78]\n",
      "Odd numbers: [11, 41, 59, 89]\n"
     ]
    }
   ],
   "source": [
    "# 1) Write a python function to list even and odd numbers in a list \n",
    "\n",
    "def num(numbers):\n",
    "    even = []\n",
    "    odd = []\n",
    "    for i in numbers:\n",
    "        if i % 2 == 0:\n",
    "            even.append(i)\n",
    "        else:\n",
    "            odd.append(i)\n",
    "    return even, odd\n",
    "\n",
    "# Example usage:\n",
    "list1 = [11, 26, 38, 41, 59, 62, 78, 89]\n",
    "even_no, odd_no = num(list1)\n",
    "print(\"Even numbers:\", even_no)\n",
    "print(\"Odd numbers:\",odd_no)\n"
   ]
  },
  {
   "cell_type": "code",
   "execution_count": 6,
   "id": "c2cf73c2-7934-4608-b9b1-bf37ef4f44f9",
   "metadata": {
    "tags": []
   },
   "outputs": [
    {
     "name": "stdin",
     "output_type": "stream",
     "text": [
      "Enter an integer:  19\n",
      "Enter an integer:  6\n",
      "Enter an integer:  9\n",
      "Enter an integer:  20\n",
      "Enter an integer:  13\n",
      "Enter an integer:  7\n",
      "Enter an integer:  6\n",
      "Enter an integer:  1\n"
     ]
    },
    {
     "name": "stdout",
     "output_type": "stream",
     "text": [
      "Number of even numbers entered: 3\n"
     ]
    }
   ],
   "source": [
    "# 2. Write and run a Python program that asks the user to enter 8 integers (one at a time), and then prints out how many of those integers were even numbers. For example, if the user entered 19, 6, 9, 20, 13, 7, 6, and 1, then your program should print out 3 since 3 of those numbers were even.\n",
    "\n",
    "count = 0\n",
    "for i in range(8):\n",
    "    num = int(input(\"Enter an integer: \"))\n",
    "    if num % 2 == 0:\n",
    "        count += 1\n",
    "print(\"Number of even numbers entered:\",count)\n"
   ]
  },
  {
   "cell_type": "code",
   "execution_count": 8,
   "id": "85ac9723-067a-4b05-86cf-aa156fdb2508",
   "metadata": {
    "tags": []
   },
   "outputs": [
    {
     "name": "stdin",
     "output_type": "stream",
     "text": [
      " positive integer:  5\n"
     ]
    },
    {
     "name": "stdout",
     "output_type": "stream",
     "text": [
      "5 16 8 4 2 1\n"
     ]
    }
   ],
   "source": [
    "# 3) Write a Python program where you take any positive integer n, if n is even, divide it by 2 to get n/ 2. If n is odd, multiply it by 3 and add 1 to obtain 3n+ 1. Repeat the process until you reach 1.\n",
    "\n",
    "def sequence(n):\n",
    "    while n != 1:\n",
    "        print(n, end=' ')\n",
    "        if n % 2 == 0:\n",
    "            n = n // 2\n",
    "        else:\n",
    "            n = 3 * n + 1\n",
    "    print(1)\n",
    "\n",
    "try:\n",
    "    n = int(input(\" positive integer: \"))\n",
    "    if n <= 0:\n",
    "        print(\" enter a positive integer.\")\n",
    "    else:\n",
    "        sequence(n)\n",
    "except ValueError:\n",
    "    print(\"Invalid input. Please enter a positive integer.\")\n"
   ]
  },
  {
   "cell_type": "code",
   "execution_count": 10,
   "id": "79d8f7cf-d5ce-4d09-bd86-14b5d5213dcb",
   "metadata": {
    "tags": []
   },
   "outputs": [
    {
     "name": "stdout",
     "output_type": "stream",
     "text": [
      "The sum of multiples of 3 or 5 below 500 is: 57918\n"
     ]
    }
   ],
   "source": [
    "#4) Write a Python program to compute the sum of all the multiples of 3 or 5 below 500.\n",
    "\n",
    "total = 0\n",
    "\n",
    "for num in range(1, 500):\n",
    "    if num % 3 == 0 or num % 5 == 0:\n",
    "        total += num\n",
    "\n",
    "print(\"The sum of multiples of 3 or 5 below 500 is:\",total)\n"
   ]
  },
  {
   "cell_type": "code",
   "execution_count": 11,
   "id": "83fd2d9b-8adf-4279-ba91-57677f2386d5",
   "metadata": {
    "tags": []
   },
   "outputs": [
    {
     "name": "stdin",
     "output_type": "stream",
     "text": [
      "Enter the value of 'n':  8\n"
     ]
    },
    {
     "name": "stdout",
     "output_type": "stream",
     "text": [
      "The first 8 prime numbers from the list are: [2, 3, 5, 7, 11, 13, 17, 19]\n"
     ]
    }
   ],
   "source": [
    "# 5) To write a Python program to find first 'n' prime numbers from a list of given numbers. \n",
    "\n",
    "def is_prime(num):\n",
    "    if num <= 1:\n",
    "        return False\n",
    "    if num == 2:\n",
    "        return True\n",
    "    if num % 2 == 0:\n",
    "        return False\n",
    "    for i in range(3, int(num**0.5) + 1, 2):\n",
    "        if num % i == 0:\n",
    "            return False\n",
    "    return True\n",
    "\n",
    "def find_primes(numbers, n):\n",
    "    prime_numbers = []\n",
    "    for num in numbers:\n",
    "        if is_prime(num):\n",
    "            prime_numbers.append(num)\n",
    "            if len(prime_numbers) == n:\n",
    "                break\n",
    "    return prime_numbers\n",
    "\n",
    "try:\n",
    "    n = int(input(\"Enter the value of 'n': \"))\n",
    "    if n <= 0:\n",
    "        print(\"Please enter a positive integer for 'n'.\")\n",
    "    else:\n",
    "        numbers = [2, 3, 5, 7, 11, 13, 17, 19, 23, 29]  # Sample list of numbers, you can modify this list\n",
    "        prime_list = find_first_n_primes_from_list(numbers, n)\n",
    "        \n",
    "        if len(prime_list) < n:\n",
    "            print(f\"There are not enough prime numbers in the list. Found only {len(prime_list)} prime numbers.\")\n",
    "        else:\n",
    "            print(f\"The first {n} prime numbers from the list are: {prime_list}\")\n",
    "except ValueError:\n",
    "    print(\"Invalid input. Please enter a positive integer for 'n'.\")\n"
   ]
  },
  {
   "cell_type": "code",
   "execution_count": 12,
   "id": "131e8bd3-ea80-4716-b917-a8908b903af0",
   "metadata": {
    "tags": []
   },
   "outputs": [
    {
     "name": "stdout",
     "output_type": "stream",
     "text": [
      "Matrix A:\n",
      "[1, 2, 3]\n",
      "[4, 5, 6]\n",
      "\n",
      "Matrix B:\n",
      "[7, 8]\n",
      "[9, 10]\n",
      "[11, 12]\n",
      "\n",
      "Matrix multiplication result:\n",
      "[58, 64]\n",
      "[139, 154]\n"
     ]
    }
   ],
   "source": [
    "# 6)To write a Python program to compute matrix multiplication. 7. Write a python Function to count the number of vowels in a string.\n",
    "\n",
    "#Matrix Multiplication:\n",
    "\n",
    "def matrix_multiplication(A, B):\n",
    "    result = []\n",
    "    if len(A[0]) != len(B):\n",
    "        print(\"Matrix multiplication is not possible. The number of columns in A must be equal to the number of rows in B.\")\n",
    "        return result\n",
    "    \n",
    "    for i in range(len(A)):\n",
    "        row = []\n",
    "        for j in range(len(B[0])):\n",
    "            cell = 0\n",
    "            for k in range(len(B)):\n",
    "                cell += A[i][k] * B[k][j]\n",
    "            row.append(cell)\n",
    "        result.append(row)\n",
    "    \n",
    "    return result\n",
    "\n",
    "\n",
    "A = [[1, 2, 3],\n",
    "     [4, 5, 6]]\n",
    "\n",
    "B = [[7, 8],\n",
    "     [9, 10],\n",
    "     [11, 12]]\n",
    "\n",
    "result = matrix_multiplication(A, B)\n",
    "\n",
    "if result:\n",
    "    print(\"Matrix A:\")\n",
    "    for row in A:\n",
    "        print(row)\n",
    "\n",
    "    print(\"\\nMatrix B:\")\n",
    "    for row in B:\n",
    "        print(row)\n",
    "\n",
    "    print(\"\\nMatrix multiplication result:\")\n",
    "    for row in result:\n",
    "        print(row)\n"
   ]
  },
  {
   "cell_type": "code",
   "execution_count": 13,
   "id": "5c2762b9-8769-46e9-9eb1-ade9d358eb0b",
   "metadata": {
    "tags": []
   },
   "outputs": [
    {
     "name": "stdin",
     "output_type": "stream",
     "text": [
      "Enter a string:  Manoj\n"
     ]
    },
    {
     "name": "stdout",
     "output_type": "stream",
     "text": [
      "Number of vowels in the string: 2\n"
     ]
    }
   ],
   "source": [
    "# 7) Count Vowels in a String\n",
    "\n",
    "def count_vowels(string):\n",
    "    vowels = \"AEIOUaeiou\"\n",
    "    vowel_count = 0\n",
    "    \n",
    "    for char in string:\n",
    "        if char in vowels:\n",
    "            vowel_count += 1\n",
    "    \n",
    "    return vowel_count\n",
    "\n",
    "input_string = input(\"Enter a string: \")\n",
    "vowel_count = count_vowels(input_string)\n",
    "print(f\"Number of vowels in the string: {vowel_count}\")\n"
   ]
  },
  {
   "cell_type": "code",
   "execution_count": 14,
   "id": "9114a3d0-e405-4ef6-9c36-e063acd7aba2",
   "metadata": {
    "tags": []
   },
   "outputs": [
    {
     "name": "stdin",
     "output_type": "stream",
     "text": [
      "Enter a non-negative integer:  022\n"
     ]
    },
    {
     "name": "stdout",
     "output_type": "stream",
     "text": [
      "The factorial of 22 is 1124000727777607680000\n"
     ]
    }
   ],
   "source": [
    "# 8) Write a python Function for finding factorial for the given number using a recursive function\n",
    "\n",
    "def factorial_recursive(n):\n",
    "    if n == 0:\n",
    "        return 1\n",
    "    else:\n",
    "        return n * factorial_recursive(n - 1)\n",
    "\n",
    "\n",
    "try:\n",
    "    num = int(input(\"Enter a non-negative integer: \"))\n",
    "    if num < 0:\n",
    "        print(\"Factorial is not defined for negative numbers.\")\n",
    "    else:\n",
    "        result = factorial_recursive(num)\n",
    "        print(f\"The factorial of {num} is {result}\")\n",
    "except ValueError:\n",
    "    print(\"Invalid input. Please enter a non-negative integer.\")\n"
   ]
  },
  {
   "cell_type": "code",
   "execution_count": 15,
   "id": "307b3d2a-09c5-461b-83d5-90f234721a3d",
   "metadata": {
    "tags": []
   },
   "outputs": [
    {
     "name": "stdin",
     "output_type": "stream",
     "text": [
      "Enter the number of terms for the Fibonacci series:  25\n"
     ]
    },
    {
     "name": "stdout",
     "output_type": "stream",
     "text": [
      "The Fibonacci series with 25 terms is: [0, 1, 1, 2, 3, 5, 8, 13, 21, 34, 55, 89, 144, 233, 377, 610, 987, 1597, 2584, 4181, 6765, 10946, 17711, 28657, 46368]\n"
     ]
    }
   ],
   "source": [
    "# 9)  Write a python Function for generating the Fibonacci series using the function.\n",
    "\n",
    "def fibonacci_recursive(n):\n",
    "    if n <= 0:\n",
    "        return []\n",
    "    elif n == 1:\n",
    "        return [0]\n",
    "    elif n == 2:\n",
    "        return [0, 1]\n",
    "    else:\n",
    "        fib_series = fibonacci_recursive(n - 1)\n",
    "        fib_series.append(fib_series[-1] + fib_series[-2])\n",
    "        return fib_series\n",
    "\n",
    "\n",
    "try:\n",
    "    num_terms = int(input(\"Enter the number of terms for the Fibonacci series: \"))\n",
    "    if num_terms <= 0:\n",
    "        print(\"Fibonacci series is not defined for non-positive numbers.\")\n",
    "    else:\n",
    "        fibonacci_series = fibonacci_recursive(num_terms)\n",
    "        print(f\"The Fibonacci series with {num_terms} terms is: {fibonacci_series}\")\n",
    "except ValueError:\n",
    "    print(\"Invalid input. Please enter a positive integer.\")"
   ]
  },
  {
   "cell_type": "code",
   "execution_count": 16,
   "id": "36700d8a-4148-4ec0-92a2-138d760e8bd5",
   "metadata": {
    "tags": []
   },
   "outputs": [
    {
     "name": "stdin",
     "output_type": "stream",
     "text": [
      "Enter an integer:  85\n"
     ]
    },
    {
     "name": "stdout",
     "output_type": "stream",
     "text": [
      "The integer 85 in reverse order is: 58\n"
     ]
    }
   ],
   "source": [
    "# 10) Python program to display the given integer in reverse order using the function without an in-built\n",
    "\n",
    "def reverse_integer(num):\n",
    "    if num < 0:\n",
    "        is_negative = True\n",
    "        num = -num\n",
    "    else:\n",
    "        is_negative = False\n",
    "\n",
    "    num_str = str(num)\n",
    "\n",
    "    reversed_str = num_str[::-1]\n",
    "\n",
    "    reversed_num = int(reversed_str)\n",
    "\n",
    "    if is_negative:\n",
    "        reversed_num = -reversed_num\n",
    "\n",
    "    return reversed_num\n",
    "\n",
    "\n",
    "try:\n",
    "    input_num = int(input(\"Enter an integer: \"))\n",
    "    reversed_num = reverse_integer(input_num)\n",
    "    print(f\"The integer {input_num} in reverse order is: {reversed_num}\")\n",
    "except ValueError:\n",
    "    print(\"Invalid input. Please enter an integer.\")\n"
   ]
  },
  {
   "cell_type": "code",
   "execution_count": 19,
   "id": "8a3df3d7-0f4a-4667-9296-d9de94351897",
   "metadata": {
    "tags": []
   },
   "outputs": [
    {
     "name": "stdout",
     "output_type": "stream",
     "text": [
      "Integers in the range 200-300 whose sum of digits is even:\n",
      "[200, 202, 204, 206, 208, 211, 213, 215, 217, 219, 220, 222, 224, 226, 228, 231, 233, 235, 237, 239, 240, 242, 244, 246, 248, 251, 253, 255, 257, 259, 260, 262, 264, 266, 268, 271, 273, 275, 277, 279, 280, 282, 284, 286, 288, 291, 293, 295, 297, 299]\n"
     ]
    }
   ],
   "source": [
    "# 11)  Write a Python Function to display all integers within the range 200-300 whose sum of digits is an even number\n",
    "\n",
    "def find_integers_with_even_digit_sum(start, end):\n",
    "    valid_integers = []\n",
    "    for num in range(start, end + 1):\n",
    "        digit_sum = sum(int(digit) for digit in str(num))\n",
    "        \n",
    "        if digit_sum % 2 == 0:\n",
    "            valid_integers.append(num)\n",
    "    \n",
    "    return valid_integers\n",
    "\n",
    "start_range = 200\n",
    "end_range = 300\n",
    "\n",
    "valid_numbers = find_integers_with_even_digit_sum(start_range, end_range)\n",
    "\n",
    "if valid_numbers:\n",
    "    print(f\"Integers in the range {start_range}-{end_range} whose sum of digits is even:\")\n",
    "    print(valid_numbers)\n",
    "else:\n",
    "    print(f\"No integers found in the range {start_range}-{end_range} with an even sum of digits.\")\n"
   ]
  },
  {
   "cell_type": "code",
   "execution_count": 20,
   "id": "3fa54858-5322-4978-9b8d-26a4a2906879",
   "metadata": {
    "tags": []
   },
   "outputs": [
    {
     "name": "stdin",
     "output_type": "stream",
     "text": [
      "Enter an integer:  45\n"
     ]
    },
    {
     "name": "stdout",
     "output_type": "stream",
     "text": [
      "Number of digits: 2\n",
      "Sum of digits: 9\n"
     ]
    }
   ],
   "source": [
    "# 12) Write a python Function to find the number of digits and sum of digits for a given integer.\n",
    "\n",
    "def count_digits_and_sum(n):\n",
    "    num_str = str(n)\n",
    "    \n",
    "    num_digits = len(num_str)\n",
    "    \n",
    "    digit_sum = sum(int(digit) for digit in num_str)\n",
    "    \n",
    "    return num_digits, digit_sum\n",
    "\n",
    "try:\n",
    "    input_num = int(input(\"Enter an integer: \"))\n",
    "    num_digits, digit_sum = count_digits_and_sum(input_num)\n",
    "    print(f\"Number of digits: {num_digits}\")\n",
    "    print(f\"Sum of digits: {digit_sum}\")\n",
    "except ValueError:\n",
    "    print(\"Invalid input. Please enter an integer.\")\n"
   ]
  },
  {
   "cell_type": "code",
   "execution_count": 25,
   "id": "a95593c8-4f03-4cf6-8167-dbd92e6acaeb",
   "metadata": {
    "tags": []
   },
   "outputs": [
    {
     "name": "stdout",
     "output_type": "stream",
     "text": [
      "Is sorted: True\n",
      "Has duplicates: False\n",
      "Is sorted: False\n",
      "Has duplicates: False\n",
      "Is sorted: True\n",
      "Has duplicates: True\n"
     ]
    }
   ],
   "source": [
    "# 13)  Write functions called is_sorted that takes a list as a parameter and returns True if the list is sorted in ascending order and False otherwise and has_ duplicates that takes a list and returns True if there is any element that appears more than once. It should not modify the original list.\n",
    "def is_sorted(input_list):\n",
    "    if len(input_list) <= 1:\n",
    "        return True\n",
    "    \n",
    "    for i in range(len(input_list) - 1):\n",
    "        if input_list[i] > input_list[i + 1]:\n",
    "            return False\n",
    "    \n",
    "    return True\n",
    "\n",
    "def has_duplicates(input_list):\n",
    "    unique_elements = set()\n",
    "    \n",
    "    for item in input_list:\n",
    "        if item in unique_elements:\n",
    "            return True\n",
    "        unique_elements.add(item)\n",
    "    \n",
    "    return False\n",
    "\n",
    "sorted_list = [1, 2, 3, 4, 5]\n",
    "print(\"Is sorted:\", is_sorted(sorted_list))  \n",
    "print(\"Has duplicates:\", has_duplicates(sorted_list))  \n",
    "\n",
    "unsorted_list = [5, 4, 3, 2, 1]\n",
    "print(\"Is sorted:\", is_sorted(unsorted_list))  \n",
    "print(\"Has duplicates:\", has_duplicates(unsorted_list))  \n",
    "\n",
    "list_with_duplicates = [1, 2, 3, 3, 4, 5]\n",
    "print(\"Is sorted:\", is_sorted(list_with_duplicates))  \n",
    "print(\"Has duplicates:\", has_duplicates(list_with_duplicates))  \n",
    "\n"
   ]
  },
  {
   "cell_type": "code",
   "execution_count": 26,
   "id": "476b089a-a41c-4de1-b57f-f1f50f3303cf",
   "metadata": {
    "tags": []
   },
   "outputs": [
    {
     "name": "stdout",
     "output_type": "stream",
     "text": [
      "Sum of all elements: 36\n"
     ]
    }
   ],
   "source": [
    "def nested_sum(lst):\n",
    "    total = 0\n",
    "    for element in lst:\n",
    "        if isinstance(element, list):\n",
    "            total += nested_sum(element)\n",
    "        else:\n",
    "            total += element\n",
    "    return total\n",
    "\n",
    "# Example usage:\n",
    "my_list = [1, 2, [3, 4], [5, [6, 7]], 8]\n",
    "result = nested_sum(my_list)\n",
    "print(\"Sum of all elements:\", result)  # Output: 36\n"
   ]
  },
  {
   "cell_type": "code",
   "execution_count": 27,
   "id": "157dfdc1-5874-4828-abd5-b0dcb7827226",
   "metadata": {
    "tags": []
   },
   "outputs": [
    {
     "name": "stdout",
     "output_type": "stream",
     "text": [
      "Cumulative sum: [1, 3, 6, 10, 15]\n"
     ]
    }
   ],
   "source": [
    "def cumsum(lst):\n",
    "    cumulative_sum = []\n",
    "    current_sum = 0\n",
    "    for num in lst:\n",
    "        current_sum += num\n",
    "        cumulative_sum.append(current_sum)\n",
    "    return cumulative_sum\n",
    "\n",
    "# Example usage:\n",
    "my_numbers = [1, 2, 3, 4, 5]\n",
    "cumulative_result = cumsum(my_numbers)\n",
    "print(\"Cumulative sum:\", cumulative_result)  # Output: [1, 3, 6, 10, 15]\n"
   ]
  },
  {
   "cell_type": "code",
   "execution_count": null,
   "id": "09baa06d-debb-4026-8eda-c67eeb42a906",
   "metadata": {},
   "outputs": [],
   "source": []
  }
 ],
 "metadata": {
  "kernelspec": {
   "display_name": "Python 3 (ipykernel)",
   "language": "python",
   "name": "python3"
  },
  "language_info": {
   "codemirror_mode": {
    "name": "ipython",
    "version": 3
   },
   "file_extension": ".py",
   "mimetype": "text/x-python",
   "name": "python",
   "nbconvert_exporter": "python",
   "pygments_lexer": "ipython3",
   "version": "3.11.4"
  }
 },
 "nbformat": 4,
 "nbformat_minor": 5
}
