{
 "cells": [
  {
   "cell_type": "code",
   "execution_count": 40,
   "id": "bb4431c7-7a2e-43dc-9ab2-3a219ea75960",
   "metadata": {
    "tags": []
   },
   "outputs": [
    {
     "name": "stdout",
     "output_type": "stream",
     "text": [
      "File '{sf_path}' copied to '{df_path}' successfully.\n"
     ]
    }
   ],
   "source": [
    "#1) Write a python function that copies a file reading and writing up to 50 character at a time\n",
    "\n",
    "def copy_file(sf_path, df_path):\n",
    "    try:\n",
    "        with open(sf_path, 'rb') as s_file, open(df_path, 'wb') as d_file:\n",
    "            while True:\n",
    "                file = s_file.read(50)\n",
    "                if not file:\n",
    "                    break \n",
    "\n",
    "                d_file.write(file)\n",
    "\n",
    "        print(\"File '{sf_path}' copied to '{df_path}' successfully.\")\n",
    "    except FileNotFoundError:\n",
    "        print(\"Error: File '{sf_path}' not found.\")\n",
    "    except Exception as e:\n",
    "        print(\"An error occurred: {str(e)}\")\n",
    "\n",
    "\n",
    "sf_path = \"D:\\Files\\source1.txt\"\n",
    "df_path = 'D:\\Files\\destination1.txt'\n",
    "copy_file(sf_path, df_path)\n"
   ]
  },
  {
   "cell_type": "code",
   "execution_count": 41,
   "id": "552b12c9-aba1-43f0-8d6e-0240a7918bbd",
   "metadata": {
    "tags": []
   },
   "outputs": [
    {
     "name": "stdout",
     "output_type": "stream",
     "text": [
      "Numbers found in the file: ['1', '2', '3', '4', '5', '6', '7', '8', '9', '0']\n",
      "Number of blank spaces in the file: 60\n"
     ]
    }
   ],
   "source": [
    "# 2)  Print all numbers present in the text file and print the number of blank spaces in that file.\n",
    "\n",
    "import re\n",
    "\n",
    "def extract(path):\n",
    "    try:\n",
    "        with open(path, 'r') as file:\n",
    "            content = file.read()\n",
    "\n",
    "            numbers = re.findall(r'\\d+', content)\n",
    "\n",
    "            blank_space_count = content.count(' ')\n",
    "\n",
    "            print(f\"Numbers found in the file: {numbers}\")\n",
    "            print(f\"Number of blank spaces in the file: {blank_space_count}\")\n",
    "\n",
    "    except FileNotFoundError:\n",
    "        print(f\"Error: File '{path}' not found.\")\n",
    "    except Exception as e:\n",
    "        print(f\"An error occurred: {str(e)}\")\n",
    "\n",
    "path = \"D:\\Files\\source1.txt\"\n",
    "extract(path)\n"
   ]
  },
  {
   "cell_type": "code",
   "execution_count": 42,
   "id": "957e4d04-f57b-4afb-8d77-5a38648bcf78",
   "metadata": {
    "tags": []
   },
   "outputs": [
    {
     "name": "stdout",
     "output_type": "stream",
     "text": [
      "File 'D:\\Files\\source1.txt' processed and saved as 'D:\\Files\\destination1.txt' successfully.\n"
     ]
    }
   ],
   "source": [
    "# 3) Write a function called sed that takes as arguments a pattern string, a replacement string, and two filenames; it should read the first file and write the contents into the second file (creating it if necessary). If the pattern string appears anywhere in the file, it should be replaced with the replacement string. If an error occurs while opening, reading, writing, or closing files, your program should catch the exception, print an error message, and exit.Write a function called sed that takes as arguments a pattern string, a replacement string, and two filenames; it should read the first file and write the contents into the second file (creating it if necessary). If the pattern string appears anywhere in the file, it should be replaced with the replacement string. If an error occurs while opening, reading, writing, or closing files, your program should catch the exception, print an error message, and exit.\n",
    "\n",
    "def sed(pattern, replacement, input_file, output_file):\n",
    "    try:\n",
    "        with open(input_file, 'r') as infile, open(output_file, 'w') as outfile:\n",
    "            for line in infile:\n",
    "                modified_line = line.replace(pattern, replacement)\n",
    "                outfile.write(modified_line)\n",
    "\n",
    "        print(f\"File '{input_file}' processed and saved as '{output_file}' successfully.\")\n",
    "    except FileNotFoundError:\n",
    "        print(f\"Error: File '{input_file}' not found.\")\n",
    "    except Exception as e:\n",
    "        print(f\"An error occurred: {str(e)}\")\n",
    "\n",
    "pattern = 'the'\n",
    "replacement = 'THE'\n",
    "input_file = 'D:\\Files\\source1.txt'\n",
    "output_file = 'D:\\Files\\destination1.txt'\n",
    "\n",
    "sed(pattern, replacement, input_file, output_file)\n"
   ]
  },
  {
   "cell_type": "code",
   "execution_count": 4,
   "id": "212ac386-6827-4539-8dfe-b1175e1aa702",
   "metadata": {},
   "outputs": [
    {
     "name": "stdin",
     "output_type": "stream",
     "text": [
      "Enter the path of the input file:  D:\\Files\\source1.txt\n",
      "Enter the path of the output file:  D:\\Files\\destination1.txt\n",
      "Enter the text to search for:  the\n",
      "Enter the replacement text:  THE\n"
     ]
    },
    {
     "name": "stdout",
     "output_type": "stream",
     "text": [
      "Replacements completed. Output written to D:\\Files\\destination1.txt\n"
     ]
    }
   ],
   "source": [
    "# 5) Text File Search and Replace: You have a text file with a large amount of text, and you want to search for specific words or phrases and replace them with new content.\n",
    "# a) Write Python code to search for and replace text within a text file.\n",
    "\n",
    "\n",
    "def search_replace_in_file(input_file, output_file, search_text, replace_text):\n",
    "    try:\n",
    "        with open(input_file, 'r') as file_in, open(output_file, 'w') as file_out:\n",
    "            for line in file_in:\n",
    "                modified_line = line.replace(search_text, replace_text)\n",
    "                file_out.write(modified_line)\n",
    "        print(f\"Replacements completed. Output written to {output_file}\")\n",
    "    except Exception as e:\n",
    "        print(f\"An error occurred: {str(e)}\")\n",
    "\n",
    "if __name__ == \"__main__\":\n",
    "    input_file = input(\"Enter the path of the input file: \")\n",
    "    output_file = input(\"Enter the path of the output file: \")\n",
    "    search_text = input(\"Enter the text to search for: \")\n",
    "    replace_text = input(\"Enter the replacement text: \")\n",
    "\n",
    "    search_replace_in_file(input_file, output_file, search_text, replace_text)\n"
   ]
  },
  {
   "cell_type": "code",
   "execution_count": 6,
   "id": "3b838ce5-aeb5-4e9c-a9fa-d3f1c3fd03b8",
   "metadata": {
    "tags": []
   },
   "outputs": [
    {
     "name": "stdin",
     "output_type": "stream",
     "text": [
      "Enter the path of the input file:  D:\\Files\\source1.txt\n",
      "Enter the path of the output file:  D:\\Files\\destination1.txt\n",
      "Enter the text to search for (leave blank to finish):  is\n",
      "Enter the replacement text:  IS\n",
      "Enter the text to search for (leave blank to finish):  \n"
     ]
    },
    {
     "name": "stdout",
     "output_type": "stream",
     "text": [
      "Replacements completed. Output written to D:\\Files\\destination1.txt\n"
     ]
    }
   ],
   "source": [
    "# 5 b) How would you handle cases where you need to perform multiple replacements in a single pass?\n",
    "\n",
    "def search_replace_in_file(input_file, output_file, replacements):\n",
    "    try:\n",
    "        with open(input_file, 'r') as file_in, open(output_file, 'w') as file_out:\n",
    "            for line in file_in:\n",
    "                for search_text, replace_text in replacements:\n",
    "                    line = line.replace(search_text, replace_text)\n",
    "                file_out.write(line)\n",
    "        print(f\"Replacements completed. Output written to {output_file}\")\n",
    "    except Exception as e:\n",
    "        print(f\"An error occurred: {str(e)}\")\n",
    "\n",
    "if __name__ == \"__main__\":\n",
    "    input_file = input(\"Enter the path of the input file: \")\n",
    "    output_file = input(\"Enter the path of the output file: \")\n",
    "\n",
    "    replacements = []\n",
    "    while True:\n",
    "        search_text = input(\"Enter the text to search for (leave blank to finish): \")\n",
    "        if not search_text:\n",
    "            break\n",
    "        replace_text = input(\"Enter the replacement text: \")\n",
    "        replacements.append((search_text, replace_text))\n",
    "\n",
    "    if not replacements:\n",
    "        print(\"No replacements provided. Exiting.\")\n",
    "    else:\n",
    "        search_replace_in_file(input_file, output_file, replacements)\n"
   ]
  },
  {
   "cell_type": "code",
   "execution_count": 8,
   "id": "c43a4863-088b-4c33-9edd-45bd0043c4c6",
   "metadata": {
    "tags": []
   },
   "outputs": [
    {
     "name": "stdin",
     "output_type": "stream",
     "text": [
      "Enter the path of a text file to concatenate (leave blank to finish):  D:\\Files\\source.txt\n",
      "Enter the path of a text file to concatenate (leave blank to finish):  D:\\Files\\destination1.txt\n",
      "Enter the path of a text file to concatenate (leave blank to finish):  D:\\Files\\destination1.txt\n",
      "Enter the path of a text file to concatenate (leave blank to finish):  \n",
      "Enter the path of the output file:  D:\\Files\\destination.txt\n"
     ]
    },
    {
     "name": "stdout",
     "output_type": "stream",
     "text": [
      "Concatenated 3 files into D:\\Files\\destination.txt\n"
     ]
    }
   ],
   "source": [
    "# 6) Write a Python script that concatenates the contents of multiple text files into a single output file. Allow the user to specify the input files and the output file.\n",
    "\n",
    "def concatenate_files(input_files, output_file):\n",
    "    try:\n",
    "        with open(output_file, 'w') as output:\n",
    "            for input_file in input_files:\n",
    "                with open(input_file, 'r') as input:\n",
    "                    output.write(input.read())\n",
    "        print(f\"Concatenated {len(input_files)} files into {output_file}\")\n",
    "    except Exception as e:\n",
    "        print(f\"An error occurred: {str(e)}\")\n",
    "\n",
    "if __name__ == \"__main__\":\n",
    "    input_files = []\n",
    "    while True:\n",
    "        file_path = input(\"Enter the path of a text file to concatenate (leave blank to finish): \")\n",
    "        if not file_path:\n",
    "            break\n",
    "        input_files.append(file_path)\n",
    "\n",
    "    if not input_files:\n",
    "        print(\"No input files provided. Exiting.\")\n",
    "    else:\n",
    "        output_file = input(\"Enter the path of the output file: \")\n",
    "        concatenate_files(input_files, output_file)\n",
    "        \n"
   ]
  },
  {
   "cell_type": "code",
   "execution_count": 11,
   "id": "e2d36a5d-be22-4670-ba1b-ce03110be346",
   "metadata": {
    "tags": []
   },
   "outputs": [
    {
     "name": "stdout",
     "output_type": "stream",
     "text": [
      "Word-length dictionary written to D:\\Files\\output.txt\n"
     ]
    }
   ],
   "source": [
    "# 7)You are given a text file named input.txt containing a list of words, one word per line. Your task is to create a Python program that reads the contents of input.txt, processes the words, and writes the result to an output file named output.txt.\n",
    "\n",
    "\n",
    "def process_word_lengths(input_file, output_file):\n",
    "    word_lengths = {}\n",
    "\n",
    "    try:\n",
    "        with open(input_file, 'r') as file_in:\n",
    "            for line in file_in:\n",
    "                word = line.strip()  \n",
    "                length = len(word)\n",
    "                word_lengths[word] = length  \n",
    "\n",
    "        with open(output_file, 'w') as file_out:\n",
    "            for word, length in word_lengths.items():\n",
    "                file_out.write(f\"{word} : {length}\\n\")\n",
    "\n",
    "        print(f\"Word-length dictionary written to {output_file}\")\n",
    "\n",
    "    except FileNotFoundError:\n",
    "        print(f\"Error: The input file '{input_file}' was not found.\")\n",
    "    except Exception as e:\n",
    "        print(f\"An error occurred: {str(e)}\")\n",
    "\n",
    "if __name__ == \"__main__\":\n",
    "    input_file = \"D:\\Files\\input.txt\"\n",
    "    output_file = \"D:\\Files\\output.txt\"\n",
    "\n",
    "    process_word_lengths(input_file, output_file)\n"
   ]
  },
  {
   "cell_type": "code",
   "execution_count": null,
   "id": "1ea1c8a6-e7b6-4a92-a987-ea4e2bcad0e7",
   "metadata": {},
   "outputs": [],
   "source": [
    "# 8)  Assume that you are developing a student gradebook system for a school. The system should allow teachers to input student grades for various subjects, store the data in files, and provide students with the ability to view their grades.\n",
    "\n",
    "\n",
    "import os\n",
    "\n",
    "def input_student_grades(subject):\n",
    "    try:\n",
    "        num_students = int(input(f\"Enter the number of students for {subject}: \"))\n",
    "        \n",
    "        with open(f\"{subject}.txt\", 'w') as file:\n",
    "            for _ in range(num_students):\n",
    "                student_name = input(\"Enter student name: \")\n",
    "                grade = float(input(f\"Enter {student_name}'s grade: \"))\n",
    "                file.write(f\"{student_name}: {grade}\\n\")\n",
    "        \n",
    "        print(f\"Grades for {subject} have been saved.\")\n",
    "    except ValueError:\n",
    "        print(\"Invalid input. Please enter a valid number of students or grades.\")\n",
    "    except Exception as e:\n",
    "        print(f\"An error occurred: {str(e)}\")\n",
    "\n",
    "def view_student_grades(subject):\n",
    "    try:\n",
    "        with open(f\"{subject}.txt\", 'r') as file:\n",
    "            print(f\"Grades for {subject}:\")\n",
    "            print(file.read())\n",
    "    except FileNotFoundError:\n",
    "        print(f\"Grades for {subject} not found.\")\n",
    "    except Exception as e:\n",
    "        print(f\"An error occurred: {str(e)}\")\n",
    "\n",
    "if __name__ == \"__main__\":\n",
    "    while True:\n",
    "        print(\"\\nStudent Gradebook System\")\n",
    "        print(\"1. Input student grades\")\n",
    "        print(\"2. View student grades\")\n",
    "        print(\"3. Quit\")\n",
    "        \n",
    "        choice = input(\"Enter your choice: \")\n",
    "        \n",
    "        if choice == '1':\n",
    "            subject = input(\"Enter the subject name: \")\n",
    "            input_student_grades(subject)\n",
    "        elif choice == '2':\n",
    "            subject = input(\"Enter the subject name: \")\n",
    "            view_student_grades(subject)\n",
    "        elif choice == '3':\n",
    "            break\n",
    "        else:\n",
    "            print(\"Invalid choice. Please choose a valid option.\")\n"
   ]
  }
 ],
 "metadata": {
  "kernelspec": {
   "display_name": "Python 3 (ipykernel)",
   "language": "python",
   "name": "python3"
  },
  "language_info": {
   "codemirror_mode": {
    "name": "ipython",
    "version": 3
   },
   "file_extension": ".py",
   "mimetype": "text/x-python",
   "name": "python",
   "nbconvert_exporter": "python",
   "pygments_lexer": "ipython3",
   "version": "3.11.4"
  }
 },
 "nbformat": 4,
 "nbformat_minor": 5
}
