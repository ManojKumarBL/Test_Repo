{
 "cells": [
  {
   "cell_type": "code",
   "execution_count": 5,
   "id": "eed8c98b-1b4e-4ad6-9901-dfb47cdcced7",
   "metadata": {
    "tags": []
   },
   "outputs": [
    {
     "name": "stdin",
     "output_type": "stream",
     "text": [
      "Enter manufacturer for car1:  BMW\n",
      "Enter model for car1:  BMW\n",
      "Enter segment for car1:  BMW\n",
      "Enter tariff for car1:  2000\n",
      "Enter availability for car1 (True/False):  True\n",
      "Enter age for car1:  2\n",
      "Enter km driven for car1:  15000\n",
      "Enter last service date for car1:  15/10/2022\n",
      "Enter service history for car1:  2\n",
      "Enter manufacturer for car2:  Audi\n",
      "Enter model for car2:  Audi\n",
      "Enter segment for car2:  Audi\n",
      "Enter tariff for car2:  2000\n",
      "Enter availability for car2 (True/False):  False\n",
      "Enter age for car2:  25\n",
      "Enter km driven for car2:  2500\n",
      "Enter last service date for car2:  25/12/2022\n",
      "Enter service history for car2:  2\n"
     ]
    },
    {
     "name": "stdout",
     "output_type": "stream",
     "text": [
      "Total number of cars: 2\n",
      "Car varieties: ['BMW', 'Audi']\n",
      "Car manufacturer details: [('BMW', 'BMW'), ('Audi', 'Audi')]\n"
     ]
    },
    {
     "name": "stdin",
     "output_type": "stream",
     "text": [
      "Enter segment to get tariff:  BMW\n"
     ]
    },
    {
     "name": "stdout",
     "output_type": "stream",
     "text": [
      "Tariff for BMW segment: [2000]\n"
     ]
    },
    {
     "name": "stdin",
     "output_type": "stream",
     "text": [
      "Enter segment to get available cars:  BMW\n"
     ]
    },
    {
     "name": "stdout",
     "output_type": "stream",
     "text": [
      "Available cars for BMW segment:\n",
      "BMW BMW\n"
     ]
    },
    {
     "name": "stdin",
     "output_type": "stream",
     "text": [
      "Enter new availability for car1 (True/False):  True\n"
     ]
    },
    {
     "data": {
      "text/plain": [
       "<bound method CarRentalSystem.update_car_availability of <__main__.CarRentalSystem object at 0x0000020B64792950>>"
      ]
     },
     "execution_count": 5,
     "metadata": {},
     "output_type": "execute_result"
    }
   ],
   "source": [
    "class Car:\n",
    "    def __init__(self, manufacturer, model, segment, tariff, availability, age, km_driven, last_service_date, service_history):\n",
    "        self.manufacturer = manufacturer\n",
    "        self.model = model\n",
    "        self.segment = segment\n",
    "        self.tariff = tariff\n",
    "        self.availability = availability\n",
    "        self.age = age\n",
    "        self.km_driven = km_driven\n",
    "        self.last_service_date = last_service_date\n",
    "        self.service_history = service_history\n",
    "\n",
    "class CarRentalSystem:\n",
    "    def __init__(self):\n",
    "        self.cars = []\n",
    "\n",
    "    def add_car(self, car):\n",
    "        self.cars.append(car)\n",
    "\n",
    "    def remove_car(self, car):\n",
    "        self.cars.remove(car)\n",
    "\n",
    "    def get_total_cars(self):\n",
    "        return len(self.cars)\n",
    "\n",
    "    def get_car_varieties(self):\n",
    "        return list(set(car.segment for car in self.cars))\n",
    "\n",
    "    def get_car_manufacturer_details(self):\n",
    "        return [(car.manufacturer, car.model) for car in self.cars]\n",
    "\n",
    "    def get_car_tariff(self, segment):\n",
    "        return [car.tariff for car in self.cars if car.segment == segment]\n",
    "\n",
    "    def get_available_cars(self, segment):\n",
    "        return [car for car in self.cars if car.segment == segment and car.availability]\n",
    "\n",
    "    def get_car_duration(self, car):\n",
    "        # Calculate duration based on rental start and end dates\n",
    "        pass\n",
    "\n",
    "    def update_car_availability(self, car, availability):\n",
    "        car.availability = availability\n",
    "\n",
    "    def update_car_service_history(self, car, service_history):\n",
    "        car.service_history = service_history\n",
    "\n",
    "    def calculate_rental_cost(self, car, duration):\n",
    "        # Calculate rental cost based on car tariff and duration\n",
    "        pass\n",
    "\n",
    "    def alert_extra_kilometers(self, car, extra_kilometers):\n",
    "        # Send alert to customer if they have driven extra kilometers\n",
    "        pass\n",
    "\n",
    "\n",
    "# Create an instance of the CarRentalSystem\n",
    "car_rental_system = CarRentalSystem()\n",
    "\n",
    "# Add some sample cars to the system\n",
    "car1 = Car(input(\"Enter manufacturer for car1: \"), input(\"Enter model for car1: \"), input(\"Enter segment for car1: \"), int(input(\"Enter tariff for car1: \")), bool(input(\"Enter availability for car1 (True/False): \")), int(input(\"Enter age for car1: \")), int(input(\"Enter km driven for car1: \")), input(\"Enter last service date for car1: \"), input(\"Enter service history for car1: \"))\n",
    "car2 = Car(input(\"Enter manufacturer for car2: \"), input(\"Enter model for car2: \"), input(\"Enter segment for car2: \"), int(input(\"Enter tariff for car2: \")), bool(input(\"Enter availability for car2 (True/False): \")), int(input(\"Enter age for car2: \")), int(input(\"Enter km driven for car2: \")), input(\"Enter last service date for car2: \"), input(\"Enter service history for car2: \"))\n",
    "\n",
    "car_rental_system.add_car(car1)\n",
    "car_rental_system.add_car(car2)\n",
    "\n",
    "# Print the total number of cars\n",
    "print(\"Total number of cars:\", car_rental_system.get_total_cars())\n",
    "\n",
    "# Print the car varieties\n",
    "print(\"Car varieties:\", car_rental_system.get_car_varieties())\n",
    "\n",
    "# Print the car manufacturer details\n",
    "print(\"Car manufacturer details:\", car_rental_system.get_car_manufacturer_details())\n",
    "\n",
    "# Print the car tariff for a specific segment\n",
    "segment = input(\"Enter segment to get tariff: \")\n",
    "print(\"Tariff for\", segment, \"segment:\", car_rental_system.get_car_tariff(segment))\n",
    "\n",
    "# Print the available cars for a specific segment\n",
    "segment = input(\"Enter segment to get available cars: \")\n",
    "print(\"Available cars for\", segment, \"segment:\")\n",
    "available_cars = car_rental_system.get_available_cars(segment)\n",
    "for car in available_cars:\n",
    "    print(car.manufacturer, car.model)\n",
    "\n",
    "# Update the availability of a car\n",
    "car_to_update = car1\n",
    "new_availability = bool(input(\"Enter new availability for car1 (True/False): \"))\n",
    "car_rental_system.update_car_availability"
   ]
  },
  {
   "cell_type": "code",
   "execution_count": null,
   "id": "a1d4c569-9685-4fb2-a7a3-21fc620cf623",
   "metadata": {},
   "outputs": [],
   "source": []
  }
 ],
 "metadata": {
  "kernelspec": {
   "display_name": "Python 3 (ipykernel)",
   "language": "python",
   "name": "python3"
  },
  "language_info": {
   "codemirror_mode": {
    "name": "ipython",
    "version": 3
   },
   "file_extension": ".py",
   "mimetype": "text/x-python",
   "name": "python",
   "nbconvert_exporter": "python",
   "pygments_lexer": "ipython3",
   "version": "3.11.4"
  }
 },
 "nbformat": 4,
 "nbformat_minor": 5
}
