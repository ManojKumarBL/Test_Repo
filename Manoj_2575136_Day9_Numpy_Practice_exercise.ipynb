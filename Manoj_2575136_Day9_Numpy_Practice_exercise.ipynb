{
 "cells": [
  {
   "cell_type": "raw",
   "id": "71d6541f-4d5f-445c-a262-df1459473da9",
   "metadata": {},
   "source": [
    "1 create a 3*3*3 array with random values"
   ]
  },
  {
   "cell_type": "code",
   "execution_count": 1,
   "id": "90c5eb13-5528-4db4-9730-977a0a42c11c",
   "metadata": {
    "tags": []
   },
   "outputs": [
    {
     "name": "stdout",
     "output_type": "stream",
     "text": [
      "[[[0.41503225 0.04324248 0.1047389 ]\n",
      "  [0.14587587 0.605361   0.71972993]\n",
      "  [0.50507952 0.96930725 0.52622041]]\n",
      "\n",
      " [[0.01973918 0.9208891  0.34526716]\n",
      "  [0.22820943 0.87281252 0.27778398]\n",
      "  [0.64056241 0.0985056  0.44575912]]\n",
      "\n",
      " [[0.67321764 0.06821635 0.04334487]\n",
      "  [0.48475855 0.26745558 0.85516182]\n",
      "  [0.83888537 0.77935726 0.34924118]]]\n"
     ]
    }
   ],
   "source": [
    "import numpy as np\n",
    "\n",
    "# Create a 3x3x3 array with random values between 0 and 1\n",
    "random_array = np.random.rand(3, 3, 3)\n",
    "\n",
    "print(random_array)"
   ]
  },
  {
   "cell_type": "raw",
   "id": "984a0fd8-d81f-46fd-b9d2-1a076751e284",
   "metadata": {},
   "source": [
    "2 create 5*5 matrix with values 1,2,3,4 just bellow the diagonal"
   ]
  },
  {
   "cell_type": "code",
   "execution_count": 2,
   "id": "3e1b00f3-ec89-4107-87d4-34bd87ddebb2",
   "metadata": {
    "tags": []
   },
   "outputs": [
    {
     "name": "stdout",
     "output_type": "stream",
     "text": [
      "[[0. 0. 0. 0. 0.]\n",
      " [1. 0. 0. 0. 0.]\n",
      " [0. 2. 0. 0. 0.]\n",
      " [0. 0. 3. 0. 0.]\n",
      " [0. 0. 0. 4. 0.]]\n"
     ]
    }
   ],
   "source": [
    "import numpy as np\n",
    "\n",
    "# Create a 5x5 matrix filled with zeros\n",
    "matrix = np.zeros((5, 5))\n",
    "\n",
    "# Fill the values 1, 2, 3, and 4 just below the diagonal\n",
    "for i in range(1, 5):\n",
    "    matrix[i, i - 1] = i\n",
    "\n",
    "print(matrix)"
   ]
  },
  {
   "cell_type": "raw",
   "id": "6d510488-4d7a-4b1e-bf08-a346d5cc7810",
   "metadata": {},
   "source": [
    "3 create a 8*8 matrix and fill it with a checkerboard  pattern"
   ]
  },
  {
   "cell_type": "code",
   "execution_count": 3,
   "id": "421ba4ca-87bd-4be1-ab33-73ead167be14",
   "metadata": {
    "tags": []
   },
   "outputs": [
    {
     "name": "stdout",
     "output_type": "stream",
     "text": [
      "[[0 1 0 1 0 1 0 1]\n",
      " [1 0 1 0 1 0 1 0]\n",
      " [0 1 0 1 0 1 0 1]\n",
      " [1 0 1 0 1 0 1 0]\n",
      " [0 1 0 1 0 1 0 1]\n",
      " [1 0 1 0 1 0 1 0]\n",
      " [0 1 0 1 0 1 0 1]\n",
      " [1 0 1 0 1 0 1 0]]\n"
     ]
    }
   ],
   "source": [
    "import numpy as np\n",
    "\n",
    "# Create an 8x8 matrix filled with zeros\n",
    "matrix = np.zeros((8, 8), dtype=int)\n",
    "\n",
    "# Fill the checkerboard pattern with 1 and 0\n",
    "matrix[1::2, ::2] = 1  # Rows 2, 4, 6, 8, Columns 1, 3, 5, 7\n",
    "matrix[::2, 1::2] = 1  # Rows 1, 3, 5, 7, Columns 2, 4, 6, 8\n",
    "\n",
    "# Print the checkerboard matrix\n",
    "print(matrix)\n"
   ]
  },
  {
   "cell_type": "raw",
   "id": "cde1d433-166b-4d9a-a823-8962db79896f",
   "metadata": {},
   "source": [
    "4 Normalize a 5*5 random matrix"
   ]
  },
  {
   "cell_type": "code",
   "execution_count": 4,
   "id": "1d84b554-2d69-4d9b-afd2-47ccca3e05cb",
   "metadata": {
    "tags": []
   },
   "outputs": [
    {
     "name": "stdout",
     "output_type": "stream",
     "text": [
      "Original Random Matrix:\n",
      "[[0.74307269 0.97253946 0.46366741 0.48948022 0.20133598]\n",
      " [0.66745559 0.42256243 0.76888262 0.44266742 0.1257813 ]\n",
      " [0.59213784 0.8970792  0.88310025 0.0212273  0.24571968]\n",
      " [0.65430544 0.11018392 0.12861138 0.71930215 0.24464135]\n",
      " [0.91876538 0.36714616 0.93962717 0.67680518 0.15980956]]\n",
      "\n",
      "Normalized Matrix:\n",
      "[[ 0.77410609  1.55034456 -0.17106401 -0.08374462 -1.0584768 ]\n",
      " [ 0.51830913 -0.31011361  0.86141572 -0.24210261 -1.31406261]\n",
      " [ 0.2635248   1.29507815  1.24779026 -1.66774712 -0.90833594]\n",
      " [ 0.4738249  -1.36682531 -1.30448906  0.69369528 -0.91198373]\n",
      " [ 1.368438   -0.49757538  1.43900912  0.54993687 -1.19895209]]\n"
     ]
    }
   ],
   "source": [
    "import numpy as np\n",
    "\n",
    "# Create a 5x5 random matrix\n",
    "random_matrix = np.random.rand(5, 5)\n",
    "\n",
    "# Calculate the mean and standard deviation of the matrix\n",
    "mean = np.mean(random_matrix)\n",
    "std_dev = np.std(random_matrix)\n",
    "\n",
    "# Normalize the matrix\n",
    "normalized_matrix = (random_matrix - mean) / std_dev\n",
    "\n",
    "print(\"Original Random Matrix:\")\n",
    "print(random_matrix)\n",
    "\n",
    "print(\"\\nNormalized Matrix:\")\n",
    "print(normalized_matrix)\n"
   ]
  },
  {
   "cell_type": "raw",
   "id": "29e757b4-4127-470c-b7c5-bb0612985279",
   "metadata": {},
   "source": [
    "5 How to find common values between two arrays "
   ]
  },
  {
   "cell_type": "code",
   "execution_count": 6,
   "id": "569df529-9e18-499a-8b82-9931aca8077c",
   "metadata": {
    "tags": []
   },
   "outputs": [
    {
     "name": "stdout",
     "output_type": "stream",
     "text": [
      "Common values: [33 51]\n"
     ]
    }
   ],
   "source": [
    "import numpy as np\n",
    "\n",
    "# Create two arrays\n",
    "array1 = np.array([11, 26, 33, 49, 51])\n",
    "array2 = np.array([33, 45, 51, 64, 77])\n",
    "\n",
    "# Find common values between the two arrays using boolean indexing\n",
    "common_values = array1[np.isin(array1, array2)]\n",
    "\n",
    "print(\"Common values:\", common_values)"
   ]
  },
  {
   "cell_type": "raw",
   "id": "085bf4be-cda5-4988-8682-379bcd2bcab2",
   "metadata": {},
   "source": [
    "6. How to get the dates of yesterday, today and tomorrow?"
   ]
  },
  {
   "cell_type": "code",
   "execution_count": 7,
   "id": "56c2f14c-5472-4b9b-a3f1-c14df2ba0ee4",
   "metadata": {
    "tags": []
   },
   "outputs": [
    {
     "name": "stdout",
     "output_type": "stream",
     "text": [
      "Yesterday: 2023-09-20\n",
      "Today: 2023-09-21\n",
      "Tomorrow: 2023-09-22\n"
     ]
    }
   ],
   "source": [
    "from datetime import datetime, timedelta\n",
    "\n",
    "# Get today's date\n",
    "today = datetime.now()\n",
    "\n",
    "# Calculate yesterday's date by subtracting one day\n",
    "yesterday = today - timedelta(days=1)\n",
    "\n",
    "# Calculate tomorrow's date by adding one day\n",
    "tomorrow = today + timedelta(days=1)\n",
    "\n",
    "# Format the dates as strings (optional)\n",
    "today_str = today.strftime('%Y-%m-%d')\n",
    "yesterday_str = yesterday.strftime('%Y-%m-%d')\n",
    "tomorrow_str = tomorrow.strftime('%Y-%m-%d')\n",
    "\n",
    "# Print the dates\n",
    "print(\"Yesterday:\", yesterday_str)\n",
    "print(\"Today:\", today_str)\n",
    "print(\"Tomorrow:\", tomorrow_str)"
   ]
  },
  {
   "cell_type": "raw",
   "id": "b1938cc4-c7f6-4373-827b-b1350993a2b0",
   "metadata": {},
   "source": [
    "7. Consider two random array A and B, check if they are equal"
   ]
  },
  {
   "cell_type": "code",
   "execution_count": 8,
   "id": "3b2f7ba1-2d0f-417c-a7ec-7770bc2cf040",
   "metadata": {
    "tags": []
   },
   "outputs": [
    {
     "name": "stdout",
     "output_type": "stream",
     "text": [
      "Arrays A and B are not equal element-wise.\n"
     ]
    }
   ],
   "source": [
    "import numpy as np\n",
    "\n",
    "# Create two random arrays A and B\n",
    "A = np.random.rand(5, 5)\n",
    "B = np.random.rand(5, 5)\n",
    "\n",
    "# Check if the arrays are equal element-wise\n",
    "elementwise_equal = (A == B).all()\n",
    "\n",
    "if elementwise_equal:\n",
    "    print(\"Arrays A and B are equal element-wise.\")\n",
    "else:\n",
    "    print(\"Arrays A and B are not equal element-wise.\")"
   ]
  },
  {
   "cell_type": "raw",
   "id": "03a255aa-2d1c-47c3-bc8a-e4f1e762b82f",
   "metadata": {},
   "source": [
    "8 Create random vector of size 10 and replace the maximum value by 0"
   ]
  },
  {
   "cell_type": "code",
   "execution_count": 9,
   "id": "4ba483ae-5631-4753-b6c6-d67d2ea6444e",
   "metadata": {
    "tags": []
   },
   "outputs": [
    {
     "name": "stdout",
     "output_type": "stream",
     "text": [
      "Original random vector:\n",
      "[0.53040129 0.02319928 0.43208438 0.6679403  0.71078645 0.18680199\n",
      " 0.41911675 0.         0.77784439 0.04983637]\n"
     ]
    }
   ],
   "source": [
    "import numpy as np\n",
    "\n",
    "# Create a random vector of size 10\n",
    "random_vector = np.random.rand(10)\n",
    "\n",
    "# Find the index of the maximum value in the vector\n",
    "max_index = np.argmax(random_vector)\n",
    "\n",
    "# Replace the maximum value with 0\n",
    "random_vector[max_index] = 0\n",
    "\n",
    "print(\"Original random vector:\")\n",
    "print(random_vector)"
   ]
  },
  {
   "cell_type": "raw",
   "id": "b239088c-7f07-4c24-8f02-967168ddc954",
   "metadata": {},
   "source": [
    "9. How to print all the values of an array?"
   ]
  },
  {
   "cell_type": "code",
   "execution_count": 11,
   "id": "4a057aaa-19ad-4ab9-b97d-86b07509a15a",
   "metadata": {
    "tags": []
   },
   "outputs": [
    {
     "name": "stdout",
     "output_type": "stream",
     "text": [
      "1\n",
      "2\n",
      "3\n",
      "4\n",
      "5\n"
     ]
    }
   ],
   "source": [
    "my_list = [1, 2, 3, 4, 5]\n",
    "\n",
    "for value in my_list:\n",
    "    print(value)\n"
   ]
  },
  {
   "cell_type": "code",
   "execution_count": 12,
   "id": "6cdc53c6-de53-4d54-ba42-7bea5850e003",
   "metadata": {
    "tags": []
   },
   "outputs": [
    {
     "name": "stdout",
     "output_type": "stream",
     "text": [
      "1\n",
      "2\n",
      "3\n",
      "4\n",
      "5\n"
     ]
    },
    {
     "data": {
      "text/plain": [
       "[None, None, None, None, None]"
      ]
     },
     "execution_count": 12,
     "metadata": {},
     "output_type": "execute_result"
    }
   ],
   "source": [
    "#Using a list comprehension:\n",
    "\n",
    "my_list = [1, 2, 3, 4, 5]\n",
    "[print(value) for value in my_list]"
   ]
  },
  {
   "cell_type": "code",
   "execution_count": 13,
   "id": "01a95a2b-b50b-438d-b0e6-f90e0bfdc4c8",
   "metadata": {
    "tags": []
   },
   "outputs": [
    {
     "name": "stdout",
     "output_type": "stream",
     "text": [
      "[1 2 3 4 5]\n"
     ]
    }
   ],
   "source": [
    "import numpy as np\n",
    "\n",
    "my_array = np.array([1, 2, 3, 4, 5])\n",
    "print(my_array)"
   ]
  },
  {
   "cell_type": "raw",
   "id": "cfe1a7d8-9aa5-4be9-9652-7ee2d67b0c94",
   "metadata": {},
   "source": [
    "10.Subtract the mean of each row of a matrix "
   ]
  },
  {
   "cell_type": "code",
   "execution_count": 14,
   "id": "1a687587-e721-43ca-9676-af70f413ba9d",
   "metadata": {
    "tags": []
   },
   "outputs": [
    {
     "name": "stdout",
     "output_type": "stream",
     "text": [
      "Original Matrix:\n",
      "[[1 2 3]\n",
      " [4 5 6]\n",
      " [7 8 9]]\n",
      "\n",
      "Matrix with Row Means Subtracted:\n",
      "[[-1.  0.  1.]\n",
      " [-1.  0.  1.]\n",
      " [-1.  0.  1.]]\n"
     ]
    }
   ],
   "source": [
    "import numpy as np\n",
    "\n",
    "# Create a sample matrix (replace this with your own matrix)\n",
    "matrix = np.array([[1, 2, 3],\n",
    "                  [4, 5, 6],\n",
    "                  [7, 8, 9]])\n",
    "\n",
    "# Calculate the mean of each row\n",
    "row_means = np.mean(matrix, axis=1, keepdims=True)\n",
    "\n",
    "# Subtract the row means from the original matrix\n",
    "normalized_matrix = matrix - row_means\n",
    "\n",
    "print(\"Original Matrix:\")\n",
    "print(matrix)\n",
    "\n",
    "print(\"\\nMatrix with Row Means Subtracted:\")\n",
    "print(normalized_matrix)"
   ]
  },
  {
   "cell_type": "raw",
   "id": "31af2904-6f7f-47fd-8b61-b37a791907d7",
   "metadata": {},
   "source": [
    "11. Consider a given vector, how to add 1 to each element indexed by a second vector (be careful with repeated indices)?"
   ]
  },
  {
   "cell_type": "code",
   "execution_count": 15,
   "id": "81fd60ea-d8fa-4a85-8c19-26f70c228f56",
   "metadata": {
    "tags": []
   },
   "outputs": [
    {
     "name": "stdout",
     "output_type": "stream",
     "text": [
      "[2 2 4 5 5]\n"
     ]
    }
   ],
   "source": [
    "import numpy as np\n",
    "\n",
    "# Your initial vector\n",
    "initial_vector = np.array([1, 2, 3, 4, 5])\n",
    "\n",
    "# Second vector containing indices\n",
    "indices = np.array([0, 2, 3])\n",
    "\n",
    "# Create a new vector to store the results\n",
    "result_vector = initial_vector.copy()\n",
    "\n",
    "# Add one to each element at the specified indices\n",
    "result_vector[indices] += 1\n",
    "\n",
    "print(result_vector)"
   ]
  },
  {
   "cell_type": "raw",
   "id": "52161eb4-8187-4f92-b9d3-64937de557fd",
   "metadata": {},
   "source": [
    "12.How to get the diagonal of a dot product?"
   ]
  },
  {
   "cell_type": "code",
   "execution_count": 16,
   "id": "42897b64-8c1e-4436-9ac5-b383c69499e9",
   "metadata": {
    "tags": []
   },
   "outputs": [
    {
     "name": "stdout",
     "output_type": "stream",
     "text": [
      "[30 69 90]\n"
     ]
    }
   ],
   "source": [
    "import numpy as np\n",
    "\n",
    "# Create two matrices A and B\n",
    "A = np.array([[1, 2, 3],\n",
    "              [4, 5, 6],\n",
    "              [7, 8, 9]])\n",
    "\n",
    "B = np.array([[9, 8, 7],\n",
    "              [6, 5, 4],\n",
    "              [3, 2, 1]])\n",
    "\n",
    "# Calculate the dot product of A and B\n",
    "dot_product = np.dot(A, B)\n",
    "\n",
    "# Get the diagonal elements of the dot product\n",
    "diagonal = np.diagonal(dot_product)\n",
    "\n",
    "print(diagonal)"
   ]
  },
  {
   "cell_type": "raw",
   "id": "9dfd31ba-c3b4-43cb-bc25-44ef11e87e04",
   "metadata": {},
   "source": [
    "13. How to find the most frequent value in an array?"
   ]
  },
  {
   "cell_type": "code",
   "execution_count": 17,
   "id": "814d7a7c-4258-4800-803c-75383991e887",
   "metadata": {
    "tags": []
   },
   "outputs": [
    {
     "name": "stdout",
     "output_type": "stream",
     "text": [
      "The most frequent value is 4 with 4 occurrences.\n"
     ]
    }
   ],
   "source": [
    "import numpy as np\n",
    "\n",
    "# Sample array\n",
    "my_array = np.array([1, 2, 2, 3, 3, 3, 4, 4, 4, 4, 5])\n",
    "\n",
    "# Use the `unique` function to get unique values and their counts\n",
    "unique_values, counts = np.unique(my_array, return_counts=True)\n",
    "\n",
    "# Find the index of the maximum count, which corresponds to the most frequent value\n",
    "most_frequent_index = np.argmax(counts)\n",
    "\n",
    "# Get the most frequent value\n",
    "most_frequent_value = unique_values[most_frequent_index]\n",
    "\n",
    "print(f\"The most frequent value is {most_frequent_value} with {counts[most_frequent_index]} occurrences.\")"
   ]
  },
  {
   "cell_type": "raw",
   "id": "6c6f9843-1826-4f37-8ecb-f383e14ac643",
   "metadata": {},
   "source": [
    "14. How to get the n largest values of an array"
   ]
  },
  {
   "cell_type": "code",
   "execution_count": 18,
   "id": "9326b6b1-e4be-49b7-bfcd-b52488431efb",
   "metadata": {
    "tags": []
   },
   "outputs": [
    {
     "name": "stdout",
     "output_type": "stream",
     "text": [
      "[5 7 8]\n"
     ]
    }
   ],
   "source": [
    "import numpy as np\n",
    "\n",
    "# Create an example array\n",
    "arr = np.array([5, 2, 8, 1, 7, 3])\n",
    "\n",
    "# Set the value of 'n' to get the n-largest values\n",
    "n = 3\n",
    "\n",
    "# Use partition to get the n-largest values\n",
    "n_largest = np.partition(arr, -n)[-n:]\n",
    "\n",
    "print(n_largest)"
   ]
  },
  {
   "cell_type": "raw",
   "id": "6251d23f-797e-4674-9702-b28eee282f46",
   "metadata": {
    "tags": []
   },
   "source": [
    "15. How to create a record array from a regular array?"
   ]
  },
  {
   "cell_type": "code",
   "execution_count": 21,
   "id": "337a022e-51a8-44fd-9a22-ed45bfac2ac3",
   "metadata": {
    "tags": []
   },
   "outputs": [
    {
     "name": "stdout",
     "output_type": "stream",
     "text": [
      "((1, 'Alice', 25), (2, 'Bob', 30), (3, 'Charlie', 22))\n"
     ]
    }
   ],
   "source": [
    "import numpy as np\n",
    "\n",
    "# Create a regular array with data\n",
    "regular_array = np.array([(1, 'Alice', 25),\n",
    "                           (2, 'Bob', 30),\n",
    "                           (3, 'Charlie', 22)],\n",
    "                          dtype=[('ID', int), ('Name', 'U10'), ('Age', int)])\n",
    "\n",
    "# Create a record array\n",
    "record_array = np.rec.fromarrays(regular_array.T, names=regular_array.dtype.names)\n",
    "\n",
    "# Print the record array\n",
    "print(record_array)"
   ]
  },
  {
   "cell_type": "raw",
   "id": "85c6d753-1311-49ab-83d9-6ce923815c8a",
   "metadata": {},
   "source": [
    "16. How to swap two rows of an array?"
   ]
  },
  {
   "cell_type": "code",
   "execution_count": 22,
   "id": "00c34c2a-ce66-41ad-b0f2-af1a48fd7a82",
   "metadata": {
    "tags": []
   },
   "outputs": [
    {
     "name": "stdout",
     "output_type": "stream",
     "text": [
      "[[7 8 9]\n",
      " [4 5 6]\n",
      " [1 2 3]]\n"
     ]
    }
   ],
   "source": [
    "import numpy as np\n",
    "\n",
    "# Create a sample 2D NumPy array\n",
    "array = np.array([[1, 2, 3],\n",
    "                  [4, 5, 6],\n",
    "                  [7, 8, 9]])\n",
    "\n",
    "# Swap rows (for example, swapping rows 0 and 2)\n",
    "array[[0, 2]] = array[[2, 0]]\n",
    "\n",
    "# Now, 'array' will have rows 0 and 2 swapped\n",
    "print(array)"
   ]
  },
  {
   "cell_type": "raw",
   "id": "95f40060-208d-42d5-a166-133c8baf60c3",
   "metadata": {},
   "source": [
    "17. Write python code to reshape to the next dimension of numpy array?"
   ]
  },
  {
   "cell_type": "code",
   "execution_count": 23,
   "id": "762edbe9-36f0-4fae-8b90-20a70f6114d8",
   "metadata": {
    "tags": []
   },
   "outputs": [
    {
     "name": "stdout",
     "output_type": "stream",
     "text": [
      "Original Array:\n",
      "[[1 2]\n",
      " [3 4]\n",
      " [5 6]]\n",
      "\n",
      "Reshaped Array:\n",
      "[[1 2 3]\n",
      " [4 5 6]]\n"
     ]
    }
   ],
   "source": [
    "import numpy as np\n",
    "\n",
    "# Create a NumPy array\n",
    "original_array = np.array([[1, 2], [3, 4], [5, 6]])\n",
    "\n",
    "# Reshape the array to the next dimension\n",
    "reshaped_array = original_array.reshape(-1, original_array.shape[0])\n",
    "\n",
    "# Print the original and reshaped arrays\n",
    "print(\"Original Array:\")\n",
    "print(original_array)\n",
    "\n",
    "print(\"\\nReshaped Array:\")\n",
    "print(reshaped_array)"
   ]
  },
  {
   "cell_type": "code",
   "execution_count": null,
   "id": "940b02db-7979-4f81-bd08-5471cd4c17bb",
   "metadata": {},
   "outputs": [],
   "source": []
  }
 ],
 "metadata": {
  "kernelspec": {
   "display_name": "Python 3 (ipykernel)",
   "language": "python",
   "name": "python3"
  },
  "language_info": {
   "codemirror_mode": {
    "name": "ipython",
    "version": 3
   },
   "file_extension": ".py",
   "mimetype": "text/x-python",
   "name": "python",
   "nbconvert_exporter": "python",
   "pygments_lexer": "ipython3",
   "version": "3.11.4"
  }
 },
 "nbformat": 4,
 "nbformat_minor": 5
}
