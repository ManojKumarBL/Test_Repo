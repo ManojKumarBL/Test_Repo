{
 "cells": [
  {
   "cell_type": "raw",
   "id": "f15e3972-62b2-4587-9e25-6da6b0f4ef41",
   "metadata": {},
   "source": [
    "3. Write a Python program for sorting a list of elements using selection sort algorithm:\n",
    "a. Assume two lists: Sorted list- Initially empty and Unsorted List-Given input list.\n",
    "\n",
    "b. In the first iteration, find the smallest element in the unsorted list and place it in the sorted list.\n",
    "\n",
    "c. In the second iteration, find the smallest element in the unsorted list and place it in the\n",
    "\n",
    "correct position by comparing with the element in the sorted list.\n",
    "\n",
    "d. In the third iteration, again find the smallest element in the unsorted list and place it in the correct position by comparing with the elements in the sorted list.\n",
    "\n",
    "e. This process continues till the unsorted list becomes empty.\n",
    "\n",
    "f. Display the sorted list."
   ]
  },
  {
   "cell_type": "code",
   "execution_count": 11,
   "id": "43cfa74f-a2de-463b-9249-58c4cc87907b",
   "metadata": {
    "tags": []
   },
   "outputs": [
    {
     "name": "stdout",
     "output_type": "stream",
     "text": [
      "Sorted list: [11, 12, 22, 25, 64]\n"
     ]
    }
   ],
   "source": [
    "def selection_sort(arr):\n",
    "    sorted_list = []\n",
    "\n",
    "    while arr: \n",
    "        min_index = arr.index(min(arr))\n",
    "        min_element = arr.pop(min_index)\n",
    "\n",
    "        if not sorted_list:\n",
    "            sorted_list.append(min_element)\n",
    "        else:\n",
    "            for i in range(len(sorted_list)):\n",
    "                if min_element < sorted_list[i]:\n",
    "                    sorted_list.insert(i, min_element)\n",
    "                    break\n",
    "            else:\n",
    "                sorted_list.append(min_element)\n",
    "\n",
    "    return sorted_list\n",
    "\n",
    "unsorted_list = [64, 25, 12, 22, 11]\n",
    "\n",
    "sorted_list = selection_sort(unsorted_list)\n",
    "\n",
    "print(\"Sorted list:\", sorted_list)"
   ]
  },
  {
   "cell_type": "raw",
   "id": "4363e450-6d9a-4cef-82fc-67205ee7f5bb",
   "metadata": {
    "tags": []
   },
   "source": [
    "4. Write a Python program for sorting a list of elements using insertion sort algorithm:\n",
    "a. Assume two lists: Sorted list- Initially empty and Unsorted List-Given input list.\n",
    "\n",
    "b. In the first iteration, take the first element in the unsorted list and insert it in Sorted list.\n",
    "\n",
    "c. In the second iteration, take the second element in the given list and compare with the element in the sorted sub list and place it in the correct position.\n",
    "\n",
    "d. In the third iteration, take the third element in the given list and compare with the elements in the sorted sub list and place the elements in the correct position.\n",
    "\n",
    "e. This process continues until the last element is inserted in the sorted sub list.\n",
    "\n",
    "f. Display the sorted elements."
   ]
  },
  {
   "cell_type": "code",
   "execution_count": 13,
   "id": "91c9935e-9289-4984-94d4-f0537ae92d7a",
   "metadata": {
    "tags": []
   },
   "outputs": [
    {
     "name": "stdout",
     "output_type": "stream",
     "text": [
      "Sorted List: [1, 2, 3, 4, 7, 9]\n"
     ]
    }
   ],
   "source": [
    "def insertion_sort(input_list):\n",
    "    sorted_list = []\n",
    "    for unsorted_element in input_list:\n",
    "        if not sorted_list:\n",
    "            sorted_list.append(unsorted_element)\n",
    "        else:\n",
    "            for i in range(len(sorted_list)):\n",
    "                if unsorted_element < sorted_list[i]:\n",
    "                    sorted_list.insert(i, unsorted_element)\n",
    "                    break\n",
    "                elif i == len(sorted_list) - 1:\n",
    "                    sorted_list.append(unsorted_element)\n",
    "    \n",
    "    return sorted_list\n",
    "\n",
    "input_list = [4, 2, 7, 1, 9, 3]\n",
    "sorted_list = insertion_sort(input_list)\n",
    "print(\"Sorted List:\", sorted_list)\n"
   ]
  },
  {
   "cell_type": "raw",
   "id": "d7680393-9183-4507-a3c2-3c6797a4a3c4",
   "metadata": {},
   "source": [
    "5 Write a Python program that performs merge sort on a list of numbers:\n",
    "a.Divide: If the given array has zero or one element, return.\n",
    "\n",
    "Otherwise\n",
    "ii. Divide the input list in to two halves each containing half of the elements. i.e. left half and right half.\n",
    "\n",
    "b. Conquer: Recursively sort the two lists (left half and right half).\n",
    "\n",
    "a. Call the merge sort on left half.\n",
    "\n",
    "b. Call the merge sort on right half.\n",
    "\n",
    "C. Combine: Combine the elements back in the input list by merging the two sorted lists into a sorted sequence."
   ]
  },
  {
   "cell_type": "code",
   "execution_count": 14,
   "id": "1f3b8a99-ecc0-4cd3-ac4e-c9406282d43f",
   "metadata": {
    "tags": []
   },
   "outputs": [
    {
     "name": "stdout",
     "output_type": "stream",
     "text": [
      "Sorted list: [3, 9, 10, 27, 38, 43, 82]\n"
     ]
    }
   ],
   "source": [
    "def merge_sort(arr):\n",
    "    if len(arr) <= 1:\n",
    "        return arr\n",
    "\n",
    "    mid = len(arr) // 2\n",
    "    left_half = arr[:mid]\n",
    "    right_half = arr[mid:]\n",
    "\n",
    "    left_half = merge_sort(left_half)\n",
    "    right_half = merge_sort(right_half)\n",
    "\n",
    "    sorted_arr = merge(left_half, right_half)\n",
    "    \n",
    "    return sorted_arr\n",
    "\n",
    "def merge(left, right):\n",
    "    result = []\n",
    "    i = j = 0\n",
    "\n",
    "    while i < len(left) and j < len(right):\n",
    "        if left[i] < right[j]:\n",
    "            result.append(left[i])\n",
    "            i += 1\n",
    "        else:\n",
    "            result.append(right[j])\n",
    "            j += 1\n",
    "\n",
    "    result.extend(left[i:])\n",
    "    result.extend(right[j:])\n",
    "    \n",
    "    return result\n",
    "\n",
    "input_list = [38, 27, 43, 3, 9, 82, 10]\n",
    "\n",
    "# Call the merge_sort function to sort the list\n",
    "sorted_list = merge_sort(input_list)\n",
    "\n",
    "print(\"Sorted list:\", sorted_list)"
   ]
  },
  {
   "cell_type": "code",
   "execution_count": null,
   "id": "733c6dd1-1631-4734-bd94-07eb63b1f5bc",
   "metadata": {},
   "outputs": [],
   "source": []
  }
 ],
 "metadata": {
  "kernelspec": {
   "display_name": "Python 3 (ipykernel)",
   "language": "python",
   "name": "python3"
  },
  "language_info": {
   "codemirror_mode": {
    "name": "ipython",
    "version": 3
   },
   "file_extension": ".py",
   "mimetype": "text/x-python",
   "name": "python",
   "nbconvert_exporter": "python",
   "pygments_lexer": "ipython3",
   "version": "3.11.4"
  }
 },
 "nbformat": 4,
 "nbformat_minor": 5
}
