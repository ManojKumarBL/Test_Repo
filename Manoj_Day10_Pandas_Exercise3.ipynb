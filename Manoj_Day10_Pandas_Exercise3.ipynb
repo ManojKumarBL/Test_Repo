{
 "cells": [
  {
   "cell_type": "code",
   "execution_count": 2,
   "metadata": {},
   "outputs": [],
   "source": [
    "%matplotlib inline\n",
    "\n",
    "import pandas as pd"
   ]
  },
  {
   "cell_type": "code",
   "execution_count": 4,
   "metadata": {},
   "outputs": [
    {
     "data": {
      "text/html": [
       "<div>\n",
       "<style scoped>\n",
       "    .dataframe tbody tr th:only-of-type {\n",
       "        vertical-align: middle;\n",
       "    }\n",
       "\n",
       "    .dataframe tbody tr th {\n",
       "        vertical-align: top;\n",
       "    }\n",
       "\n",
       "    .dataframe thead th {\n",
       "        text-align: right;\n",
       "    }\n",
       "</style>\n",
       "<table border=\"1\" class=\"dataframe\">\n",
       "  <thead>\n",
       "    <tr style=\"text-align: right;\">\n",
       "      <th></th>\n",
       "      <th>title</th>\n",
       "      <th>year</th>\n",
       "    </tr>\n",
       "  </thead>\n",
       "  <tbody>\n",
       "    <tr>\n",
       "      <th>0</th>\n",
       "      <td>Tasveer Mere Sanam</td>\n",
       "      <td>1996</td>\n",
       "    </tr>\n",
       "    <tr>\n",
       "      <th>1</th>\n",
       "      <td>Only You</td>\n",
       "      <td>1994</td>\n",
       "    </tr>\n",
       "    <tr>\n",
       "      <th>2</th>\n",
       "      <td>El pueblo del terror</td>\n",
       "      <td>1970</td>\n",
       "    </tr>\n",
       "    <tr>\n",
       "      <th>3</th>\n",
       "      <td>Machine</td>\n",
       "      <td>2007</td>\n",
       "    </tr>\n",
       "    <tr>\n",
       "      <th>4</th>\n",
       "      <td>MARy</td>\n",
       "      <td>2008</td>\n",
       "    </tr>\n",
       "  </tbody>\n",
       "</table>\n",
       "</div>"
      ],
      "text/plain": [
       "                  title  year\n",
       "0    Tasveer Mere Sanam  1996\n",
       "1              Only You  1994\n",
       "2  El pueblo del terror  1970\n",
       "3               Machine  2007\n",
       "4                  MARy  2008"
      ]
     },
     "execution_count": 4,
     "metadata": {},
     "output_type": "execute_result"
    }
   ],
   "source": [
    "titles = pd.read_csv('titles.csv', index_col=None)\n",
    "\n",
    "titles.head()"
   ]
  },
  {
   "cell_type": "markdown",
   "metadata": {},
   "source": [
    "# 1. Using groupby(), plot the number of films that have been released each decade in the history of cinema."
   ]
  },
  {
   "cell_type": "code",
   "execution_count": 9,
   "metadata": {},
   "outputs": [
    {
     "data": {
      "image/png": "[encoded data removed]",
      "text/plain": [
       "<Figure size 720x432 with 1 Axes>"
      ]
     },
     "metadata": {
      "needs_background": "light"
     },
     "output_type": "display_data"
    }
   ],
   "source": [
    "# Assuming 'release_year' is the column name containing release years in the 'titles' DataFrame\n",
    "# If it's named differently, please replace it with the correct column name\n",
    "titles['decade'] = (titles['year'] // 10) * 10\n",
    "\n",
    "# Group by decade and count the number of films\n",
    "films_per_decade = titles.groupby('decade').size()\n",
    "\n",
    "# Plotting\n",
    "import matplotlib.pyplot as plt\n",
    "\n",
    "plt.figure(figsize=(10, 6))\n",
    "films_per_decade.plot(kind='bar', color='skyblue')\n",
    "plt.title('Number of Films Released Each Decade')\n",
    "plt.xlabel('Decade')\n",
    "plt.ylabel('Number of Films')\n",
    "plt.show()\n"
   ]
  },
  {
   "cell_type": "markdown",
   "metadata": {},
   "source": [
    "# 2 Use groupby() to plot the number of \"Hamlet\" films made each decade.\n"
   ]
  },
  {
   "cell_type": "code",
   "execution_count": 12,
   "metadata": {},
   "outputs": [
    {
     "name": "stderr",
     "output_type": "stream",
     "text": [
      "<ipython-input-12-413cf11425ce>:6: SettingWithCopyWarning: \n",
      "A value is trying to be set on a copy of a slice from a DataFrame.\n",
      "Try using .loc[row_indexer,col_indexer] = value instead\n",
      "\n",
      "See the caveats in the documentation: https://pandas.pydata.org/pandas-docs/stable/user_guide/indexing.html#returning-a-view-versus-a-copy\n",
      "  hamlet_films['decade'] = (hamlet_films['year'] // 10) * 10\n"
     ]
    },
    {
     "data": {
      "image/png": "[encoded data removed]",
      "text/plain": [
       "<Figure size 720x432 with 1 Axes>"
      ]
     },
     "metadata": {
      "needs_background": "light"
     },
     "output_type": "display_data"
    }
   ],
   "source": [
    "# Filter the DataFrame for films with the title \"Hamlet\"\n",
    "hamlet_films = titles[titles['title'] == 'Hamlet']\n",
    "\n",
    "# Assuming 'release_year' is the column name containing release years\n",
    "# If it's named differently, please replace it with the correct column name\n",
    "hamlet_films['decade'] = (hamlet_films['year'] // 10) * 10\n",
    "\n",
    "# Group by decade and count the number of \"Hamlet\" films\n",
    "hamlet_films_per_decade = hamlet_films.groupby('decade').size()\n",
    "\n",
    "# Plotting\n",
    "import matplotlib.pyplot as plt\n",
    "\n",
    "plt.figure(figsize=(10, 6))\n",
    "hamlet_films_per_decade.plot(kind='bar', color='green')\n",
    "plt.title('Number of \"Hamlet\" Films Made Each Decade')\n",
    "plt.xlabel('Decade')\n",
    "plt.ylabel('Number of Films')\n",
    "plt.show()\n"
   ]
  },
  {
   "cell_type": "code",
   "execution_count": 14,
   "metadata": {
    "scrolled": true
   },
   "outputs": [
    {
     "data": {
      "text/html": [
       "<div>\n",
       "<style scoped>\n",
       "    .dataframe tbody tr th:only-of-type {\n",
       "        vertical-align: middle;\n",
       "    }\n",
       "\n",
       "    .dataframe tbody tr th {\n",
       "        vertical-align: top;\n",
       "    }\n",
       "\n",
       "    .dataframe thead th {\n",
       "        text-align: right;\n",
       "    }\n",
       "</style>\n",
       "<table border=\"1\" class=\"dataframe\">\n",
       "  <thead>\n",
       "    <tr style=\"text-align: right;\">\n",
       "      <th></th>\n",
       "      <th>title</th>\n",
       "      <th>year</th>\n",
       "      <th>name</th>\n",
       "      <th>type</th>\n",
       "      <th>character</th>\n",
       "      <th>n</th>\n",
       "    </tr>\n",
       "  </thead>\n",
       "  <tbody>\n",
       "    <tr>\n",
       "      <th>0</th>\n",
       "      <td>Closet Monster</td>\n",
       "      <td>2015</td>\n",
       "      <td>Buffy #1</td>\n",
       "      <td>actor</td>\n",
       "      <td>Buffy 4</td>\n",
       "      <td>31.0</td>\n",
       "    </tr>\n",
       "    <tr>\n",
       "      <th>1</th>\n",
       "      <td>Suuri illusioni</td>\n",
       "      <td>1985</td>\n",
       "      <td>Homo $</td>\n",
       "      <td>actor</td>\n",
       "      <td>Guests</td>\n",
       "      <td>22.0</td>\n",
       "    </tr>\n",
       "    <tr>\n",
       "      <th>2</th>\n",
       "      <td>Battle of the Sexes</td>\n",
       "      <td>2017</td>\n",
       "      <td>$hutter</td>\n",
       "      <td>actor</td>\n",
       "      <td>Bobby Riggs Fan</td>\n",
       "      <td>10.0</td>\n",
       "    </tr>\n",
       "    <tr>\n",
       "      <th>3</th>\n",
       "      <td>Secret in Their Eyes</td>\n",
       "      <td>2015</td>\n",
       "      <td>$hutter</td>\n",
       "      <td>actor</td>\n",
       "      <td>2002 Dodger Fan</td>\n",
       "      <td>NaN</td>\n",
       "    </tr>\n",
       "    <tr>\n",
       "      <th>4</th>\n",
       "      <td>Steve Jobs</td>\n",
       "      <td>2015</td>\n",
       "      <td>$hutter</td>\n",
       "      <td>actor</td>\n",
       "      <td>1988 Opera House Patron</td>\n",
       "      <td>NaN</td>\n",
       "    </tr>\n",
       "  </tbody>\n",
       "</table>\n",
       "</div>"
      ],
      "text/plain": [
       "                  title  year      name   type                character     n\n",
       "0        Closet Monster  2015  Buffy #1  actor                  Buffy 4  31.0\n",
       "1       Suuri illusioni  1985    Homo $  actor                   Guests  22.0\n",
       "2   Battle of the Sexes  2017   $hutter  actor          Bobby Riggs Fan  10.0\n",
       "3  Secret in Their Eyes  2015   $hutter  actor          2002 Dodger Fan   NaN\n",
       "4            Steve Jobs  2015   $hutter  actor  1988 Opera House Patron   NaN"
      ]
     },
     "execution_count": 14,
     "metadata": {},
     "output_type": "execute_result"
    }
   ],
   "source": [
    "cast = pd.read_csv('cast.csv', index_col=None)\n",
    "\n",
    "cast.head()"
   ]
  },
  {
   "cell_type": "markdown",
   "metadata": {},
   "source": [
    "# 3. How many leading (n=1) roles were available to actors, and how many to actresses, in each year of the 1950s?"
   ]
  },
  {
   "cell_type": "code",
   "execution_count": 16,
   "metadata": {},
   "outputs": [
    {
     "name": "stdout",
     "output_type": "stream",
     "text": [
      "year  type   \n",
      "1950  actor      625\n",
      "      actress    288\n",
      "1951  actor      651\n",
      "      actress    285\n",
      "1952  actor      613\n",
      "      actress    304\n",
      "1953  actor      664\n",
      "      actress    312\n",
      "1954  actor      636\n",
      "      actress    316\n",
      "1955  actor      648\n",
      "      actress    285\n",
      "1956  actor      668\n",
      "      actress    307\n",
      "1957  actor      739\n",
      "      actress    315\n",
      "1958  actor      715\n",
      "      actress    301\n",
      "1959  actor      733\n",
      "      actress    327\n",
      "dtype: int64\n"
     ]
    }
   ],
   "source": [
    "# Step 1: Filter roles from the 1950s\n",
    "roles_1950s = cast[(cast['year'] >= 1950) & (cast['year'] <= 1959)]\n",
    "\n",
    "# Step 2: Filter for leading roles\n",
    "leading_roles = roles_1950s[roles_1950s['n'] == 1]\n",
    "\n",
    "# Step 3: Group by year and gender\n",
    "roles_by_year_gender = leading_roles.groupby(['year', 'type'])\n",
    "\n",
    "# Step 4: Count the number of roles for each combination of year and gender\n",
    "roles_count = roles_by_year_gender.size()\n",
    "\n",
    "# Display the result\n",
    "print(roles_count)\n"
   ]
  },
  {
   "cell_type": "markdown",
   "metadata": {},
   "source": [
    "# 4.  In the 1950s decade taken as a whole, how many total roles were available to actors, and how many to actresses, for each \"n\" number 1 through 5?"
   ]
  },
  {
   "cell_type": "code",
   "execution_count": 17,
   "metadata": {},
   "outputs": [
    {
     "name": "stdout",
     "output_type": "stream",
     "text": [
      "type     n  \n",
      "actor    1.0    6692\n",
      "         2.0    4640\n",
      "         3.0    5654\n",
      "         4.0    5663\n",
      "         5.0    5674\n",
      "actress  1.0    3040\n",
      "         2.0    4635\n",
      "         3.0    3201\n",
      "         4.0    2881\n",
      "         5.0    2592\n",
      "dtype: int64\n"
     ]
    }
   ],
   "source": [
    "# Step 1: Filter roles from the 1950s\n",
    "roles_1950s = cast[(cast['year'] >= 1950) & (cast['year'] <= 1959)]\n",
    "\n",
    "# Step 2: Filter for roles with n values between 1 and 5\n",
    "filtered_roles = roles_1950s[(roles_1950s['n'] >= 1) & (roles_1950s['n'] <= 5)]\n",
    "\n",
    "# Step 3: Group by gender and n value\n",
    "roles_by_gender_n = filtered_roles.groupby(['type', 'n'])\n",
    "\n",
    "# Step 4: Count the number of roles for each combination of gender and n value\n",
    "roles_count = roles_by_gender_n.size()\n",
    "\n",
    "# Display the result\n",
    "print(roles_count)\n"
   ]
  },
  {
   "cell_type": "markdown",
   "metadata": {},
   "source": [
    "# 5. Use groupby() to determine how many roles are listed for each of the Pink Panther movies."
   ]
  },
  {
   "cell_type": "code",
   "execution_count": 18,
   "metadata": {},
   "outputs": [
    {
     "name": "stdout",
     "output_type": "stream",
     "text": [
      "title\n",
      "Curse of the Pink Panther          67\n",
      "Revenge of the Pink Panther        68\n",
      "Son of the Pink Panther            46\n",
      "The Pink Panther                  111\n",
      "The Pink Panther 2                 84\n",
      "The Pink Panther Strikes Again     70\n",
      "The Return of the Pink Panther     30\n",
      "Trail of the Pink Panther          41\n",
      "dtype: int64\n"
     ]
    }
   ],
   "source": [
    "# Step 1: Filter roles from Pink Panther movies\n",
    "pink_panther_roles = cast[cast['title'].str.contains('Pink Panther', case=False)]\n",
    "\n",
    "# Step 2: Group by movie title\n",
    "roles_by_movie = pink_panther_roles.groupby('title')\n",
    "\n",
    "# Step 3: Count the number of roles for each movie\n",
    "roles_count = roles_by_movie.size()\n",
    "\n",
    "# Display the result\n",
    "print(roles_count)\n"
   ]
  },
  {
   "cell_type": "markdown",
   "metadata": {},
   "source": [
    "# 6. List, in order by year, each of the films in which Frank Oz has played more than 1 role."
   ]
  },
  {
   "cell_type": "code",
   "execution_count": 19,
   "metadata": {},
   "outputs": [
    {
     "name": "stdout",
     "output_type": "stream",
     "text": [
      "title                                 year\n",
      "An American Werewolf in London        1981    2\n",
      "Follow That Bird                      1985    3\n",
      "Muppet Treasure Island                1996    4\n",
      "Muppets from Space                    1999    4\n",
      "The Adventures of Elmo in Grouchland  1999    3\n",
      "The Dark Crystal                      1982    2\n",
      "The Great Muppet Caper                1981    6\n",
      "The Muppet Christmas Carol            1992    7\n",
      "The Muppet Movie                      1979    8\n",
      "The Muppets Take Manhattan            1984    7\n",
      "dtype: int64\n"
     ]
    }
   ],
   "source": [
    "# Step 1: Filter roles for Frank Oz\n",
    "frank_oz_roles = cast[cast['name'] == 'Frank Oz']\n",
    "\n",
    "# Step 2: Group by title and year, and count the number of roles\n",
    "roles_per_film = frank_oz_roles.groupby(['title', 'year']).size()\n",
    "\n",
    "# Step 3: Filter films where Frank Oz played more than one role\n",
    "multiple_roles_films = roles_per_film[roles_per_film > 1]\n",
    "\n",
    "# Display the result\n",
    "print(multiple_roles_films)\n"
   ]
  },
  {
   "cell_type": "markdown",
   "metadata": {},
   "source": [
    "# 7. List each of the characters that Frank Oz has portrayed at least twice"
   ]
  },
  {
   "cell_type": "code",
   "execution_count": 20,
   "metadata": {},
   "outputs": [
    {
     "name": "stdout",
     "output_type": "stream",
     "text": [
      "character\n",
      "Animal            6\n",
      "Bert              3\n",
      "Cookie Monster    5\n",
      "Fozzie Bear       4\n",
      "Grover            2\n",
      "Miss Piggy        6\n",
      "Sam the Eagle     5\n",
      "Yoda              6\n",
      "dtype: int64\n"
     ]
    }
   ],
   "source": [
    "# Step 1: Filter roles for Frank Oz\n",
    "frank_oz_roles = cast[cast['name'] == 'Frank Oz']\n",
    "\n",
    "# Step 2: Group by character name and count the number of times each character appears\n",
    "character_appearances = frank_oz_roles.groupby('character').size()\n",
    "\n",
    "# Step 3: Filter characters that Frank Oz has portrayed at least twice\n",
    "characters_at_least_twice = character_appearances[character_appearances >= 2]\n",
    "\n",
    "# Display the result\n",
    "print(characters_at_least_twice)\n"
   ]
  },
  {
   "cell_type": "code",
   "execution_count": null,
   "metadata": {},
   "outputs": [],
   "source": []
  }
 ],
 "metadata": {
  "kernelspec": {
   "display_name": "Python 3",
   "language": "python",
   "name": "python3"
  },
  "language_info": {
   "codemirror_mode": {
    "name": "ipython",
    "version": 3
   },
   "file_extension": ".py",
   "mimetype": "text/x-python",
   "name": "python",
   "nbconvert_exporter": "python",
   "pygments_lexer": "ipython3",
   "version": "3.8.5"
  }
 },
 "nbformat": 4,
 "nbformat_minor": 4
}
