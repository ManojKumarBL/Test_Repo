{
 "cells": [
  {
   "cell_type": "code",
   "execution_count": 1,
   "id": "8c568e45-13bf-466b-8416-d5c496e513ff",
   "metadata": {
    "tags": []
   },
   "outputs": [],
   "source": [
    "import numpy as np"
   ]
  },
  {
   "cell_type": "code",
   "execution_count": 2,
   "id": "14e452e0-62aa-46a4-9982-fe9da6006174",
   "metadata": {
    "tags": []
   },
   "outputs": [],
   "source": [
    "np_olympic_country=np.array(['GBR', 'Chine', 'RUS', 'US', 'KOR', 'JPN', 'GER']) \n",
    "np_olympic_country_gold=np.array([29, 38, 24, 46, 13,7,11]) \n",
    "np_olympic_country_silver=np.array([17, 28, 25,28,8,14,11])\n",
    "np_olympic_country_Bronze=np.array ([19, 22, 32, 29, 7, 17, 14])"
   ]
  },
  {
   "cell_type": "code",
   "execution_count": 3,
   "id": "8685d246-853a-4adb-bb6b-18c6aabd4820",
   "metadata": {
    "tags": []
   },
   "outputs": [],
   "source": [
    "# Find the index of the maximum gold medals\n",
    "max_gold_index = np.argmax(np_olympic_country_gold)"
   ]
  },
  {
   "cell_type": "code",
   "execution_count": 4,
   "id": "023e9418-164e-4fbc-aaf8-407a1b0a2416",
   "metadata": {
    "tags": []
   },
   "outputs": [],
   "source": [
    "# Find the country with the maximum gold medals\n",
    "country_with_max_gold = np_olympic_country[max_gold_index]"
   ]
  },
  {
   "cell_type": "code",
   "execution_count": 5,
   "id": "9252f74d-0b4b-40d0-9bbf-646db93098be",
   "metadata": {
    "tags": []
   },
   "outputs": [
    {
     "name": "stdout",
     "output_type": "stream",
     "text": [
      "Country with the maximum gold medals: US\n",
      "Index of the country with the maximum gold medals: 3\n"
     ]
    }
   ],
   "source": [
    "print(\"Country with the maximum gold medals:\", country_with_max_gold)\n",
    "print(\"Index of the country with the maximum gold medals:\", max_gold_index)"
   ]
  },
  {
   "cell_type": "code",
   "execution_count": 6,
   "id": "1403704e-89ff-4f08-bd01-9e3b4d3098aa",
   "metadata": {
    "tags": []
   },
   "outputs": [
    {
     "name": "stdout",
     "output_type": "stream",
     "text": [
      "Countries with more than 20 gold medals: ['GBR' 'Chine' 'RUS' 'US']\n"
     ]
    }
   ],
   "source": [
    "# Find the countries with more than 20 gold medals\n",
    "countries_with_more_than_20_gold = np_olympic_country[np_olympic_country_gold > 20]\n",
    "print(\"Countries with more than 20 gold medals:\", countries_with_more_than_20_gold)"
   ]
  },
  {
   "cell_type": "code",
   "execution_count": 8,
   "id": "13a86d56-4412-4a48-869c-a81752574b64",
   "metadata": {
    "tags": []
   },
   "outputs": [
    {
     "name": "stdout",
     "output_type": "stream",
     "text": [
      "GBR: 29 gold medals\n",
      "Chine: 38 gold medals\n",
      "RUS: 24 gold medals\n",
      "US: 46 gold medals\n",
      "KOR: 13 gold medals\n",
      "JPN: 7 gold medals\n",
      "GER: 11 gold medals\n"
     ]
    }
   ],
   "source": [
    "# Print each country name with the number of gold medals\n",
    "for i in range(len(np_olympic_country)):\n",
    "    country = np_olympic_country[i]\n",
    "    gold_medals = np_olympic_country_gold[i]\n",
    "    print(f\"{country}: {gold_medals} gold medals\")"
   ]
  },
  {
   "cell_type": "code",
   "execution_count": 11,
   "id": "e8691d11-94c8-48e8-8f8e-88b86606a872",
   "metadata": {
    "tags": []
   },
   "outputs": [
    {
     "name": "stdout",
     "output_type": "stream",
     "text": [
      "GBR: Total Medals - 65\n",
      "Chine: Total Medals - 88\n",
      "RUS: Total Medals - 81\n",
      "US: Total Medals - 103\n",
      "KOR: Total Medals - 28\n",
      "JPN: Total Medals - 38\n",
      "GER: Total Medals - 36\n"
     ]
    }
   ],
   "source": [
    "# Calculate the total number of medals for each country\n",
    "total_medals = np_olympic_country_gold + np_olympic_country_silver + np_olympic_country_Bronze\n",
    "\n",
    "# Print each country name with the total number of medals\n",
    "for i in range(len(np_olympic_country)):\n",
    "    country = np_olympic_country[i]\n",
    "    total = total_medals[i]\n",
    "    print(f\"{country}: Total Medals - {total}\")"
   ]
  },
  {
   "cell_type": "code",
   "execution_count": null,
   "id": "1d0bb6f8-4965-4701-9cec-f50b6281dea7",
   "metadata": {},
   "outputs": [],
   "source": []
  }
 ],
 "metadata": {
  "kernelspec": {
   "display_name": "Python 3 (ipykernel)",
   "language": "python",
   "name": "python3"
  },
  "language_info": {
   "codemirror_mode": {
    "name": "ipython",
    "version": 3
   },
   "file_extension": ".py",
   "mimetype": "text/x-python",
   "name": "python",
   "nbconvert_exporter": "python",
   "pygments_lexer": "ipython3",
   "version": "3.11.4"
  }
 },
 "nbformat": 4,
 "nbformat_minor": 5
}
